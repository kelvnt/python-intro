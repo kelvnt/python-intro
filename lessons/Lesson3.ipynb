{
 "cells": [
  {
   "cell_type": "markdown",
   "metadata": {},
   "source": [
    "## Lesson 3 Overview\n",
    "\n",
    "1. List comprehension\n",
    "2. Functions\n",
    "3. Importing data\n",
    "4. Packages"
   ]
  },
  {
   "cell_type": "markdown",
   "metadata": {},
   "source": [
    "## Let's load today's lesson!\n",
    "\n",
    "### Open Azure Notebooks library \n",
    "\n",
    "Go to https://notebooks.azure.com -> Sign in if needed -> Select **python-intro**\n",
    "\n",
    "### Update lesson file to latest version\n",
    "\n",
    "Select **New** -> **From URL** -> input https://raw.githubusercontent.com/kelvnt/python-intro/master/Lesson3.ipynb (URL is available in **Lesson3.ipynb**) -> Click outside input then select **Upload** (overwrite if needed)\n",
    "\n",
    "### Open Jupyter lab\n",
    "\n",
    "From your browser's bookmark or **Run** -> Change browser URL path from **/nb/tree** to **/nb/lab**\n",
    "\n",
    "Select **Lesson3.ipynb**"
   ]
  },
  {
   "cell_type": "markdown",
   "metadata": {},
   "source": [
    "In lesson 2, you've learnt about List and how to create and manipulate them, and about Loops and how to create and update Lists using Loops.\n"
   ]
  },
  {
   "cell_type": "markdown",
   "metadata": {},
   "source": [
    "# List comprehensions\n",
    "\n",
    "`Estimation: 10 minutes`\n",
    "\n",
    "List comprehensions provide a concise way to create lists.\n",
    "\n",
    "It consists of brackets containing an expression followed by a `for` clause, then zero or more `for` or `if` clauses. The expressions can be anything, meaning you can put in all kinds of objects in lists.\n",
    "\n",
    "The result will be a new list resulting from evaluating the expressions in the context of the `for` and `if` clauses which follow it.\n",
    "\n",
    "The list comprehension always returns a result list.\n",
    "\n",
    "### Syntax\n",
    "\n",
    "The list comprehension starts with a '[' and end with ']' and this will ensure the end result is going to be a list.\n",
    "\n",
    "**newList = [expression(x) for x in oldList if filter(x)]**\n",
    "\n",
    "**newList** is the new list result.\n",
    "\n",
    "**expression(x)** is the expression based on the variable used for each element in the old list.\n",
    "\n",
    "**for x in oldList** is a `for` loop.\n",
    "\n",
    "**if filter(x)** is a if-statement to filter unwanted results."
   ]
  },
  {
   "cell_type": "markdown",
   "metadata": {},
   "source": [
    "Example 1: Create a list of squares for even numbers from 0 to 9"
   ]
  },
  {
   "cell_type": "code",
   "execution_count": null,
   "metadata": {},
   "outputs": [],
   "source": [
    "# Normal loop implementation\n",
    "evenSquares = []\n",
    "for x in range(10):\n",
    "    if x % 2 == 0:\n",
    "        evenSquares.append(x**2)\n",
    "        \n",
    "print(evenSquares)"
   ]
  },
  {
   "cell_type": "code",
   "execution_count": null,
   "metadata": {},
   "outputs": [],
   "source": [
    "# List comprehensions implementation\n",
    "[x**2 for x in range(10) if x % 2 == 0]"
   ]
  },
  {
   "cell_type": "markdown",
   "metadata": {},
   "source": [
    "Example 2: Create a tuple that have all different numbers combination between 2 array range from 0 to 4."
   ]
  },
  {
   "cell_type": "code",
   "execution_count": null,
   "metadata": {},
   "outputs": [],
   "source": [
    "# Normal loop implementation\n",
    "combinations = []\n",
    "for x in range(5):\n",
    "    for y in range(5):\n",
    "        if (x != y):\n",
    "            combinations.append((x, y))\n",
    "            \n",
    "print(combinations)"
   ]
  },
  {
   "cell_type": "code",
   "execution_count": null,
   "metadata": {},
   "outputs": [],
   "source": [
    "# List comprehensions implementation\n",
    "combinations = [(x, y) for x in range(5) for y in range(5) if x != y]\n",
    "print(combinations)"
   ]
  },
  {
   "cell_type": "markdown",
   "metadata": {},
   "source": [
    "Example 3: Given 2-dimentional list (like a table), flatten it (to a normal list)"
   ]
  },
  {
   "cell_type": "code",
   "execution_count": null,
   "metadata": {},
   "outputs": [],
   "source": [
    "table = [[1, 2, 3],\n",
    "         [4, 5, 6],\n",
    "         [7, 8, 9]]\n",
    "\n",
    "# Normal loop implementation\n",
    "flatten = []\n",
    "for row in table:\n",
    "    for num in row:\n",
    "        flatten.append(num)\n",
    "\n",
    "print(flatten)"
   ]
  },
  {
   "cell_type": "code",
   "execution_count": null,
   "metadata": {},
   "outputs": [],
   "source": [
    "# List comprehensions implementation\n",
    "[num for row in table for num in row]"
   ]
  },
  {
   "cell_type": "markdown",
   "metadata": {},
   "source": [
    "Example 4: Given 2-dimentional list (like a table), transpose rows and columns using Nested List Comprehensions"
   ]
  },
  {
   "cell_type": "code",
   "execution_count": null,
   "metadata": {},
   "outputs": [],
   "source": [
    "# Normal loop implementation\n",
    "transpose = []\n",
    "for num in range(len(table[0])):\n",
    "    fields = []\n",
    "    for row in table:\n",
    "        fields.append(row[num])\n",
    "    transpose.append(fields)\n",
    "\n",
    "print(transpose)"
   ]
  },
  {
   "cell_type": "code",
   "execution_count": null,
   "metadata": {},
   "outputs": [],
   "source": [
    "# List comprehensions implementation\n",
    "[[row[num] for row in table] for num in range(len(table[0]))]"
   ]
  },
  {
   "cell_type": "markdown",
   "metadata": {},
   "source": [
    "Exercise: Create a tuple that have number from 2 to 5 (x) with number divisible by x between 1 and 25. `(5 minutes)`"
   ]
  },
  {
   "cell_type": "code",
   "execution_count": null,
   "metadata": {},
   "outputs": [],
   "source": [
    "# Normal loop implementation\n",
    "\n",
    "\n",
    "# List comprehensions implementation\n",
    "\n",
    "\n",
    "# Expected result:\n",
    "# [(2, 2), (2, 4), (2, 6), (2, 8), (2, 10), (2, 12), (2, 14), (2, 16), \n",
    "#  (2, 18), (2, 20), (2, 22), (2, 24), (3, 3), (3, 6), (3, 9), (3, 12), \n",
    "#  (3, 15), (3, 18), (3, 21), (3, 24), (4, 4), (4, 8), (4, 12), (4, 16), \n",
    "#  (4, 20), (4, 24), (5, 5), (5, 10), (5, 15), (5, 20), (5, 25)]"
   ]
  },
  {
   "cell_type": "markdown",
   "metadata": {},
   "source": [
    "# Sorting\n",
    "\n",
    "`Estimation: 5 minutes`\n",
    "\n",
    "### Ascending - from small to big, from low to high, from A to Z, from a to z\n",
    "\n",
    "By default, all sorting are in ascending order.\n",
    "\n",
    "**sorted(list)** will return a new sorted list, leaving the original list unaffected.\n",
    "\n",
    "**list.sort()** will sort the list **in-place**. If the list is immutable, it will return None.\n",
    "\n",
    "### Descending - in reverse of Ascending\n",
    "\n",
    "Both sort() and sorted() accept an additional parameter for reverse in boolean type.\n",
    "\n",
    "**sorted(list, reverse=True)**\n",
    "\n",
    "**list.sort(reverse=True)**"
   ]
  },
  {
   "cell_type": "markdown",
   "metadata": {},
   "source": [
    "Example 1: Given a list of numbers, create a new sorted list in ascending order and in-place descending order."
   ]
  },
  {
   "cell_type": "code",
   "execution_count": null,
   "metadata": {},
   "outputs": [],
   "source": [
    "listOfNum = [56, 34, 65, 12, 88, 54, 99, 78]\n",
    "\n",
    "# new ascending order list named ascending\n",
    "ascending = sorted(listOfNum)\n",
    "\n",
    "# in-place descending order\n",
    "listOfNum.sort(reverse=True)\n",
    "\n",
    "print(\"Ascending: \", ascending)\n",
    "print(\"Descending: \", listOfNum)"
   ]
  },
  {
   "cell_type": "markdown",
   "metadata": {},
   "source": [
    "Example 2: Given a list of alphabets, create a new sorted list in descending order and in-place ascending order."
   ]
  },
  {
   "cell_type": "code",
   "execution_count": null,
   "metadata": {},
   "outputs": [],
   "source": [
    "listOfAlp = ['g', 'w', 's', 'a', 'k', 'e', 'q', 'd']\n",
    "\n",
    "# new descending order list named descending\n",
    "descending = sorted(listOfAlp, reverse=True)\n",
    "\n",
    "# in-place ascending order\n",
    "listOfAlp.sort()\n",
    "\n",
    "print(\"Ascending: \", listOfAlp)\n",
    "print(\"Descending: \", descending)"
   ]
  },
  {
   "cell_type": "markdown",
   "metadata": {},
   "source": [
    "Exercise: Flatten list given and sort by ascending order `(5 minutes)`"
   ]
  },
  {
   "cell_type": "code",
   "execution_count": null,
   "metadata": {},
   "outputs": [],
   "source": [
    "# list given\n",
    "listOfNum = [76, 23, 54, 68]\n",
    "listOfFloat = [54.1, 53.9, 54.0]\n",
    "listOfAlp = ['e', 'x', 'p']\n",
    "listOfCapAlp = ['E', 'D', 'I', 'A']\n",
    "combined = [listOfNum, listOfFloat, listOfAlp, listOfCapAlp]\n",
    "\n",
    "# flatten array\n",
    "\n",
    "\n",
    "# sort by ascending order\n",
    "\n",
    "\n",
    "# Expected result:\n",
    "# ['23', '53.9', '54', '54.0', '54.1', '68', '76', 'A', 'D', 'E', 'I', 'e', 'p', 'x']"
   ]
  },
  {
   "cell_type": "markdown",
   "metadata": {},
   "source": [
    "# Slicing\n",
    "\n",
    "`Estimation: 5 minutes`\n",
    "\n",
    "Slicing is used to extract a part of a List, a Tuple or a String.\n",
    "\n",
    "### Syntax\n",
    "\n",
    "**list[start:end:step]**\n",
    "\n",
    "**start** by default is 0\n",
    "\n",
    "**end** by default is the last list item\n",
    "\n",
    "**step** by default is 1 "
   ]
  },
  {
   "cell_type": "markdown",
   "metadata": {},
   "source": [
    "Example 1: Given a list, slice list with default step."
   ]
  },
  {
   "cell_type": "code",
   "execution_count": null,
   "metadata": {},
   "outputs": [],
   "source": [
    "items = [0, 1, 2, 3, 4, 5, 6, 7, 8, 9, 10]\n",
    "\n",
    "# all items in list\n",
    "print(\"Initial list: \", items)\n",
    "\n",
    "# first and last item in the array/list\n",
    "print(\"First item in list: \", items[0])\n",
    "print(\"Last item in list: \", items[-1])\n",
    "\n",
    "# all item except the last two items\n",
    "print(\"All item except last two items in list: \", items[:-2])\n",
    "\n",
    "# items from 3rd to 5th array/list\n",
    "print(\"3rd to 5th items in list: \", items[2:5])"
   ]
  },
  {
   "cell_type": "markdown",
   "metadata": {},
   "source": [
    "Example 2: Slice list with different step."
   ]
  },
  {
   "cell_type": "code",
   "execution_count": null,
   "metadata": {},
   "outputs": [],
   "source": [
    "# all items in the array/list reversed\n",
    "print(\"All reversed: \", items[::-1])\n",
    "\n",
    "# first 3 items reversed\n",
    "print(\"First 3 items reversed: \", items[2::-1])\n",
    "\n",
    "# last 3 items reversed\n",
    "print(\"Last 3 items reversed: \", items[:-4:-1])\n",
    "\n",
    "# all items in even position\n",
    "print(\"All items in even position: \", items[::2])\n"
   ]
  },
  {
   "cell_type": "markdown",
   "metadata": {},
   "source": [
    "Exercise: Clean list and print \"Expedia\" `(5 minutes)`"
   ]
  },
  {
   "cell_type": "code",
   "execution_count": null,
   "metadata": {},
   "outputs": [],
   "source": [
    "listOfExpedia = ['(', '$', 'a', 'i', 'd', 'e', 'p', 'x', 'E', ')']\n",
    "\n",
    "# hint:\n",
    "# convert list to string by using: ''.join(list)\n",
    "\n"
   ]
  },
  {
   "cell_type": "markdown",
   "metadata": {},
   "source": [
    "# Merging\n",
    "\n",
    "`Estimation: 1 minutes`\n",
    "\n",
    "Merging newList into existingList.\n",
    "\n",
    "### Syntax\n",
    "\n",
    "**existingList.extend(newList)**"
   ]
  },
  {
   "cell_type": "markdown",
   "metadata": {},
   "source": [
    "Example 1: Given 2 list, merge them."
   ]
  },
  {
   "cell_type": "code",
   "execution_count": null,
   "metadata": {},
   "outputs": [],
   "source": [
    "existingFruits = [\"Apple\", \"Banana\", \"Mango\"]\n",
    "newFruits = [\"Dragon Fruits\", \"Kiwi\"]\n",
    "\n",
    "existingFruits.extend(newFruits)\n",
    "print(\"Merge new fruits into existing list: \", existingFruits)"
   ]
  },
  {
   "cell_type": "markdown",
   "metadata": {},
   "source": [
    "# Function\n",
    "\n",
    "### What is a function?\n",
    "In computer programming, a function (subroutine) is a sequence of program instructions that perform a specific task, packaged as a unit. This unit can then be used in programs wherever that particular task should be performed. (Wikipedia)\n",
    "\n",
    "Function is basically a group of commands to the computer, and it can come with parameters to modify the behaviour of these commands.\n",
    "\n",
    "General syntax to define a function:\n",
    "```Python\n",
    "def functionname( parameters ):\n",
    "    operations inside the function # take note of the indentation, operations and return indented belong to this function\n",
    "                                   # we can put any kind of command inside the function, e.g. variable assignment, conditional, loop, etc.\n",
    "    return some_value # if some_value is missing, function returns None. If return statement is missing, function also returns None\n",
    "```\n",
    "\n",
    "Syntax to execute a function:\n",
    "```Python\n",
    "functionname( parameters ) # we need substitute parameters with their real values\n",
    "```\n",
    "\n",
    "Here are a few examples:"
   ]
  },
  {
   "cell_type": "code",
   "execution_count": null,
   "metadata": {},
   "outputs": [],
   "source": [
    "# Function to return sum of 3 numbers\n",
    "def sum_of_three(num1, num2, num3):  # we define the function here\n",
    "    sum = num1 + num2 + num3\n",
    "    return sum\n",
    "\n",
    "\n",
    "sum_of_2_4_5 = sum_of_three(2, 4, 5)  # we execute the function here, replace the parameters with the actual values,\n",
    "                                      # then we assign sum_of_2_4_5 to the value returned by sum_of_three function\n",
    "print(sum_of_2_4_5)\n",
    "\n",
    "print(sum_of_three(10, 20, 30))  # we can also print directly the value returned by sum_of_three function"
   ]
  },
  {
   "cell_type": "code",
   "execution_count": null,
   "metadata": {},
   "outputs": [],
   "source": [
    "# Parameters are optional\n",
    "def hello():\n",
    "    print('hello')"
   ]
  },
  {
   "cell_type": "code",
   "execution_count": null,
   "metadata": {},
   "outputs": [],
   "source": [
    "# We need to execute the function by calling it\n",
    "def hello():\n",
    "    print('hello')\n",
    "\n",
    "\n",
    "hello()"
   ]
  },
  {
   "cell_type": "markdown",
   "metadata": {},
   "source": [
    "Let's do some practices with function:"
   ]
  },
  {
   "cell_type": "code",
   "execution_count": null,
   "metadata": {},
   "outputs": [],
   "source": [
    "# define a cube function that take in one number in parameter, return the cubic value of the number\n",
    "\n",
    "# Start here\n",
    "\n",
    "\n",
    "\n",
    "# Don't touch the code below\n",
    "print(cube(3))  # make this work without error and print 27"
   ]
  },
  {
   "cell_type": "code",
   "execution_count": null,
   "metadata": {},
   "outputs": [],
   "source": [
    "# define a print_lower_than_10000 function that take in a list, print the numbers from the list smaller than 10000. Hint: function can contain loop\n",
    "\n",
    "# Start here\n",
    "\n",
    "\n",
    "\n",
    "# Don't touch the code below\n",
    "daily_steps = [11980, 10437, 17616, 24586, 16136, 13700, 39812, 9195, 12855, 11309, 23606, 11848, 6120, 6254, 8754, 6469, 8849, 9911, 7709, 534, 13465, 7341, 11230, 7878, 11029, 8790, 9006, 21942]\n",
    "print_lower_than_10000(daily_steps)  # make this work without error"
   ]
  },
  {
   "cell_type": "markdown",
   "metadata": {},
   "source": [
    "## What is a CSV file?\n",
    "\n",
    "A CSV is a comma separated values file which allows data to be saved in a table structured format. A CSV file is similar to an Excel spreadsheet, though it doesn't have the style formatting and has a .csv extension instead. Traditionally they take the form of a text file containing information separated by commas, hence the name.\n",
    "\n",
    "### Content in CSV\n",
    "\n",
    "Starting from this lesson, we will use the data from Biggest Loser. \n",
    "\n",
    "For those who are unfamiliar with the Biggest Loser step challenge, this was a 4-week long challenge where teams (each consisting 5 members) combined their daily step count in order to reach these goals:\n",
    "\n",
    "    1. To be the first team to reach 1 million steps\n",
    "\n",
    "    2. To have the highest overall step count amongst all teams\n",
    "\n",
    "    3. To show the most improved team step count (from weeks 1+2 to weeks 3+4)\n",
    "\n",
    "*** The following sample data is from the Biggest Loser step challenge. ***\n",
    "\n",
    "     team_no,team_name,team_captain,team_member,2018-04-02,2018-04-03\n",
    "\n",
    "     1,TBD,FALSE,1-1,11980,10437\n",
    "\n",
    "     1,TBD,FALSE,1-2,22935,13399\n",
    "\n",
    "However, CSV file is a table, as we are familiar with Excel, to make it more clear, we can have a comparison with Excel we generally use in our daily work. The first row is the column names, and the specific information of each person starts from the second row.\n",
    "\n",
    "If you open the CSV file using a text Editor such as Notepad, you'll see the content as above.\n",
    "\n",
    "If you open the CSV file using Excel, the content will have the same format as a .xls file."
   ]
  },
  {
   "cell_type": "markdown",
   "metadata": {},
   "source": [
    "## How to list the content of a CSV file\n",
    "\n",
    "To read and analyse the data, we use the Python csv library. CSV literally stands for comma separated variable, where the comma is what is known as a \"delimiter.\"\n",
    "\n",
    "   *** Tips: Whatever the libraries you need, you should import all the necessary libraries at the beginnng of the code.***\n",
    "    \n",
    "** Let's get started! **\n",
    "\n",
    "### How to read a CSV file in Python -- `csv.reader()` function\n",
    "\n",
    "    1. The first thing we need to do is to import the csv library, then we can use its functions in our program.\n",
    "    2. Open the file by using its path\n",
    "    3. To read a CSV file, we use csv.reader() function from the csv library\n",
    "    4. Use \"for\" statement we learnt in Lesson 3 to read through the data row by row from a CSV file\n",
    "    5. Print each row\n"
   ]
  },
  {
   "cell_type": "code",
   "execution_count": null,
   "metadata": {},
   "outputs": [],
   "source": [
    "# Print CSV file\n",
    "import csv\n",
    "with open('Biggest Loser 2018.csv') as csvfile:\n",
    "    readCSV = csv.reader(csvfile)\n",
    "    for row in readCSV:\n",
    "        print(row)"
   ]
  },
  {
   "cell_type": "markdown",
   "metadata": {},
   "source": [
    "This is how we read a CSV file row by row in Python.\n",
    "\n",
    "### How to print some specific data from a CSV file\n",
    "\n",
    "When using the csv library in Python, a row is a variable of type List with the first index (0) being the first column, the second index (1) being the second column, and so on.\n",
    "\n",
    "The following code block will print the team_no, team_name, and team_captain values of each row."
   ]
  },
  {
   "cell_type": "code",
   "execution_count": null,
   "metadata": {},
   "outputs": [],
   "source": [
    "# Print CSV file\n",
    "import csv\n",
    "with open('Biggest Loser 2018.csv') as csvfile:\n",
    "    readCSV = csv.reader(csvfile)\n",
    "    for row in readCSV:\n",
    "        print(row[0], row[1], row[2])"
   ]
  },
  {
   "cell_type": "markdown",
   "metadata": {},
   "source": [
    "#### `with` statement\n",
    "\n",
    "From the code above, we use a keyword `with` when opening the CSV file. Then what's `with`? And what's the `with` statement used for?\n",
    "\n",
    "By using `with` statement, you can get better syntax and errors handling. We call it exceptions handling.\n",
    "\n",
    "`with` statement simplifies errors handling by wrapping common preparation and cleanup tasks. In addition, it will automatically close the file even if there are errors when opening it. The `with` statement also provides a way for ensuring that a clean-up is always used.\n",
    "\n",
    "Here is how we print the second row of the CSV data:"
   ]
  },
  {
   "cell_type": "code",
   "execution_count": null,
   "metadata": {},
   "outputs": [],
   "source": [
    "# Print the data of the first row\n",
    "import csv\n",
    "with open('Biggest Loser 2018.csv') as csvfile:\n",
    "    readCSV = csv.reader(csvfile)\n",
    "    for row_index, row in enumerate(readCSV):\n",
    "        if row_index == 1:\n",
    "            print(row)\n",
    "            break"
   ]
  },
  {
   "cell_type": "markdown",
   "metadata": {},
   "source": [
    "As we already know, the index of a **list** starts from 0, it applies to every programming language as well. \n",
    "\n",
    "CSV is a table (or a list of list of cell), therefore, the index of column and row start from 0 as well.\n",
    "\n",
    "In the code sample above, we use `if row_index == 1` because we want to print the first row only, and index 0 is the column names."
   ]
  },
  {
   "cell_type": "markdown",
   "metadata": {},
   "source": [
    "## Total number of steps for each participant\n",
    "\n",
    "After the Biggest Loser challenge has ended, all the participants may have wondered -- **How many steps did I clock in total?**\n",
    "\n",
    "It's not a hard question, let's code the answer together.\n",
    "\n",
    "### Steps statistics\n",
    "\n",
    "In order to get the steps statistics, we need to figure out two things.\n",
    "\n",
    "   * Which rows are the participants data.\n",
    "   * Which columns are the steps data. \n",
    "\n",
    "As we've seen from the CSV table, we can easily figure out the answers:\n",
    "\n",
    "   * -- Participants data starts from the second row to the last, which can also be coded as \"every row with index greater than 0\".\n",
    "   * -- Steps data starts from the fifth column to the last, which can also be coded as \"every column with index greater than 3\".\n",
    "   \n",
    "Please refer to the code block below:\n",
    "   "
   ]
  },
  {
   "cell_type": "code",
   "execution_count": null,
   "metadata": {},
   "outputs": [],
   "source": [
    "# Print total steps per person\n",
    "import csv\n",
    "with open('Biggest Loser 2018.csv') as csvfile: # Open the CSV file by path\n",
    "    readCSV = csv.reader(csvfile)               # Read the CSV file\n",
    "    for row_index, row in enumerate(readCSV):   # \"for\" loop statement to fetch the data                     \n",
    "        if row_index > 0:                       # Rows start from index 1\n",
    "            total_steps = 0                     # Define a parameter to store each participant' total steps\n",
    "            \n",
    "            # Calculate the total steps by using \"for\" loop statement\n",
    "            for column_index, steps_in_column in enumerate(row):\n",
    "                if column_index > 3 and steps_in_column != '':  # Columns start from index 4\n",
    "                    total_steps = total_steps + int(steps_in_column)\n",
    "                    \n",
    "            # After \"for\" statement completes running, total_steps is the answer we want\n",
    "            print(\"Total steps of Member \" + str(row_index) + \" is:\" + str(total_steps))"
   ]
  },
  {
   "cell_type": "markdown",
   "metadata": {},
   "source": [
    "### Type casting review\n",
    "From the code block above, we get the number of total steps for every participant and print them one by one.\n",
    "\n",
    "Did you notice the use of `int()`, `str()`, and String concatenation?\n",
    "```python \n",
    "        totalSteps = totalSteps + int(steps_in_column)\n",
    "print(\"Total steps of Member \" + str(row_index) + \" is:\" + str(total_steps))\n",
    "```\n",
    "** **\n",
    "\n",
    "***Question: Do you guys remember what these functions are?***\n",
    "\n",
    "   1. `int()`\n",
    "   \n",
    "   2. `str()`\n",
    "\n",
    "When fetching the data from a CSV table, each value is from the same Type, they all are string type.\n",
    "\n",
    "In order to make numbers addition and string concatenation, we need to make sure that the data Types are either Integers or Strings.\n"
   ]
  },
  {
   "cell_type": "markdown",
   "metadata": {},
   "source": [
    "## How to print the names of participants with more than 100k steps\n",
    "\n",
    "Now let's use the data from the CSV file to do some simple analysis.\n",
    "\n",
    "In the previous section, we have already printed every participant's total steps. If we compare each total number of steps with the number 100000, therefore we can list all the participants who have more than 100k steps.\n",
    "\n",
    "Based on the code block \"***Print total steps per person***\" above, can you write a piece of code below to get the answer?"
   ]
  },
  {
   "cell_type": "code",
   "execution_count": 8,
   "metadata": {},
   "outputs": [],
   "source": [
    "# Please refer to the code block above to print the names of participants with more than 100k steps\n",
    "\n",
    "#Some tips for you:\n",
    "\n",
    "# 1. Use the variable of the total steps\n",
    "# 2. Compare with 1000000\n",
    "# 3. Get to know the index of the name coloumn (\"team_member\")\n",
    "# 4. Print the names and steps in a line\n"
   ]
  },
  {
   "cell_type": "markdown",
   "metadata": {},
   "source": [
    "We use the row index for printing the names here because we know the index of the column team_member in advance.\n",
    "\n",
    "But what would happen if the format of the CSV file changes?\n",
    "\n",
    " - The \"team_member\" column switches to the first column?\n",
    " - The steps column moves to the beginning of the row?\n",
    " \n",
    "The column indexes will change!!!\n",
    "\n",
    "Then we have to update all the related code where using the row index.\n",
    "\n",
    "Therefore, using the column index is not a good way to print the member names. Can we figure out a new way to print the names by the column name? -- ***Yes, we can.***\n",
    "\n",
    "### How to print the names by column name -- `csv.DictReader()` function\n",
    "\n",
    "When reading a CSV file, we use **`csv.reader()`**, then loop printing the data row by row. In this way, we don't know the column name of the data.\n",
    "\n",
    "Now I'm telling you another way to read the CSV file, **`csv.DictReader()`**. We can get the value by column name from the returning object of this method.\n",
    "\n",
    "eg: **`row['team_member']`**\n",
    "\n",
    "The returning object looks like a dictionary, operates like a regular reader, and maps the information read into a dict whose keys are given by the optional fieldnames parameter.\n",
    "\n",
    "More details about `csv.DictReader()` you can find here: https://docs.python.org/3/library/csv.html#csv.DictReader\n",
    "\n",
    "#### Get the column names\n",
    "\n",
    "Please refer to the code block below:\n"
   ]
  },
  {
   "cell_type": "code",
   "execution_count": null,
   "metadata": {},
   "outputs": [],
   "source": [
    "# Sample for DictReader\n",
    "# Print header\n",
    "import csv\n",
    "with open('Biggest Loser 2018.csv') as csvfile:\n",
    "    readCSV = csv.DictReader(csvfile)\n",
    "    header = readCSV.fieldnames\n",
    "    print(header)\n"
   ]
  },
  {
   "cell_type": "markdown",
   "metadata": {},
   "source": [
    "\n",
    "From the results printed above, the \"header\" is a list of the **column names**.\n",
    "\n",
    "#### Print the data by column index and column name\n",
    "\n",
    "Please refer to the code block below:"
   ]
  },
  {
   "cell_type": "code",
   "execution_count": null,
   "metadata": {},
   "outputs": [],
   "source": [
    "# Print the data by column index and column name\n",
    "import csv\n",
    "with open('Biggest Loser 2018.csv') as csvfile:\n",
    "    readCSV = csv.DictReader(csvfile)\n",
    "    header = readCSV.fieldnames\n",
    "    team_number = header[0]\n",
    "    team_name = header[1]\n",
    "    for row in readCSV:\n",
    "        print(row[team_number], row[team_name], row['team_captain'], row['team_member'])"
   ]
  },
  {
   "cell_type": "markdown",
   "metadata": {},
   "source": [
    "\n",
    "#### Print the names with corresponding steps\n",
    "\n",
    "Please refer to the code block below:\n"
   ]
  },
  {
   "cell_type": "code",
   "execution_count": null,
   "metadata": {},
   "outputs": [],
   "source": [
    "# Print total steps per person by using DictReader\n",
    "import csv\n",
    "with open('Biggest Loser 2018.csv') as csvfile:\n",
    "    readCSV = csv.DictReader(csvfile)\n",
    "    header = readCSV.fieldnames\n",
    "    for row in readCSV:\n",
    "        total_steps = 0\n",
    "        for column_index, steps_in_column in enumerate(header):\n",
    "            steps_in_column = row[header[column_index]]\n",
    "            if column_index > 3 and steps_in_column != '':\n",
    "                total_steps = total_steps + int(steps_in_column)\n",
    "        print(\"Total steps of \" + row['team_member'] + \" is:\" + str(total_steps))\n"
   ]
  },
  {
   "cell_type": "markdown",
   "metadata": {},
   "source": [
    "Please notice, we don't use the condition `if row_index > 0` here. This is one of the biggest differences between the two reading CSV file ways.\n",
    "\n",
    "By using `csv.reader()`, the first row is the column name. We have to use `row_index > 0` as a condition to make sure the result is the main content except the column names.\n",
    "\n",
    "But if using `csv.DictReader()`, the returning object looks like a dictionary, the first row will be treated as a search index by default. We don't need to add the row index filter to achieve our target."
   ]
  },
  {
   "cell_type": "markdown",
   "metadata": {},
   "source": [
    "### Let's write a function for counting total steps\n",
    "\n",
    "Steps start from column 5, therefore, we can count the total number of steps by looping through the headers and adding the number of steps in column to the total for each header_index greater than 3.\n",
    "\n",
    "```python\n",
    "def total_steps_by_row(row, header):\n",
    "    totalSteps = 0                                           # Define totalSteps\n",
    "    for header_index, fieldNames in enumerate(header):       # Looping header for counting the steps\n",
    "        steps_in_column = row[header[header_index]]\n",
    "        if header_index > 3 and steps_in_column != '':       # Step amount starts from header index 4\n",
    "            totalSteps = totalSteps + int(steps_in_column)\n",
    "    return totalSteps\n",
    "```\n",
    "** **\n",
    "By reusing this function, we can get the total number of steps per person, and then, checking if it's greater than 100K.\n",
    "\n",
    "We can define a string parameter, **NamesForStepsMoreThan100K** to store the names which satisfy the conditions.\n",
    "\n",
    "Please refer to the code block below:"
   ]
  },
  {
   "cell_type": "code",
   "execution_count": null,
   "metadata": {},
   "outputs": [],
   "source": [
    "# Print names of people with steps count more than 100k\n",
    "import csv\n",
    "def total_steps_by_row(row, header):\n",
    "    total_steps = 0\n",
    "    for header_index, field_names in enumerate(header):\n",
    "        steps_in_column = row[header[header_index]]\n",
    "        if header_index > 3 and steps_in_column != '':\n",
    "            total_steps = total_steps + int(steps_in_column)\n",
    "    return total_steps\n",
    "\n",
    "\n",
    "with open('Biggest Loser 2018.csv') as csvfile:\n",
    "    readCSV = csv.DictReader(csvfile)\n",
    "    header = readCSV.fieldnames\n",
    "    NamesForStepsMoreThan100K = []\n",
    "    \n",
    "    for row in readCSV:\n",
    "        total_steps = total_steps_by_row(row, header)\n",
    "        if total_steps >= 100000:\n",
    "            NamesForStepsMoreThan100K.append(row['team_member'])\n",
    "    print(\"Steps more than 100K: \" + str(NamesForStepsMoreThan100K))\n"
   ]
  },
  {
   "cell_type": "markdown",
   "metadata": {},
   "source": [
    "**Question: Following the code block above, can you complete the following code block to print the names of people who have a total number of steps greater than 300k and 400k?**"
   ]
  },
  {
   "cell_type": "code",
   "execution_count": null,
   "metadata": {},
   "outputs": [],
   "source": [
    "# Write you code here:\n",
    "\n",
    "# Read from CSV file\n",
    "# Count for total steps\n",
    "# Compare with 300K/400k\n",
    "# Print the names\n",
    "\n"
   ]
  },
  {
   "cell_type": "markdown",
   "metadata": {},
   "source": [
    "## How to print the number of total steps for each team\n",
    "\n",
    "From the code above, we have completed a function for counting total steps for each participant.\n",
    "\n",
    "To print the total number of steps for each team, what else should we do? -- We should know **all the team names**.\n",
    "\n",
    "Let's write more functions.  \n",
    "\n",
    "### Get all the team names\n",
    "\n",
    "To store the team names, create a list.\n",
    "\n",
    "Please refer to the code block below:\n",
    "\n",
    "```python\n",
    "def get_team_names_from_data(steps_data):\n",
    "    team_names = []                              # Create a list to store all the team names\n",
    "    for row in steps_data:                       # Loop the CSV file to get the team name from each row\n",
    "        if row['team_name'] not in team_names:   # If the team name is not in the list, then append it to the list\n",
    "            team_names.append(row['team_name'])\n",
    "    return team_names\n",
    "```\n",
    "** **\n",
    "### Count total steps by team name \n",
    "\n",
    "After getting the team name, the next step is to count the total number of steps by team name.\n",
    "\n",
    "Please refer to the code block below:\n",
    "\n",
    "```python\n",
    "def get_total_steps_by_team_name_from_data(steps_data, header, team_name):\n",
    "    team_total_steps = 0\n",
    "    for row in steps_data:\n",
    "        if row['team_name'] == team_name:   # If the \"team_name\" in a row equals the target team_name, then plus it\n",
    "            team_total_steps = team_total_steps + total_steps_by_row(row, header)\n",
    "```\n",
    "** **\n",
    "### Loop for team names\n",
    "\n",
    "To print the total number of steps for each team, let's do a loop for the team names outside the code block above.\n",
    "\n",
    "Please refer to the code block below:\n",
    "\n",
    "```python\n",
    "for name in team_names:\n",
    "    total_steps_by_team = get_total_steps_by_team_name_from_data(steps_data, name)\n",
    "```\n",
    "\n",
    "** **\n",
    "\n",
    "***Tips: When using csv.reader() or csv.DictReader() in Python, all the data can be read one time only. After reading, the data will be deleted in memory. If you want to re-use the data later in your program, you'd better store the data into another new list, then you can reuse it.***\n",
    "\n",
    "### Reference\n",
    "\n",
    "** Entire code for printing total steps by each team**\n",
    "\n",
    "Please refer to the code block below:"
   ]
  },
  {
   "cell_type": "code",
   "execution_count": null,
   "metadata": {},
   "outputs": [],
   "source": [
    "# Print total steps by each team\n",
    "import csv\n",
    "def total_steps_by_row(row, header):\n",
    "    total_steps = 0\n",
    "    for header_index, fieldNames in enumerate(header):\n",
    "        steps_in_column = row[header[header_index]]\n",
    "        if header_index > 3 and steps_in_column != '':\n",
    "            total_steps = total_steps + int(steps_in_column)\n",
    "    return total_steps\n",
    "\n",
    "def get_team_names(steps_data):\n",
    "    team_names = []\n",
    "    for row in steps_data:\n",
    "        if row['team_name'] not in team_names:\n",
    "            team_names.append(row['team_name'])\n",
    "    return team_names\n",
    "\n",
    "def get_total_steps_by_team_name_from_data(steps_data, header, team_name):\n",
    "    team_total_steps = 0\n",
    "    for row in steps_data:\n",
    "        if row['team_name'] == team_name:\n",
    "            team_total_steps = team_total_steps + total_steps_by_row(row, header)\n",
    "    return team_total_steps\n",
    "\n",
    "with open('Biggest Loser 2018.csv') as csvfile:\n",
    "    readCSV = csv.DictReader(csvfile)\n",
    "    # Get the header and pass to the function get_total_steps_by_team_name_from_data(steps_data, header, team_name)\n",
    "    header = readCSV.fieldnames\n",
    "    # For avoiding reading from a file multiple times(because it's not efficient), convert the data to a list for reuse\n",
    "    stepsData = list(readCSV)\n",
    "    team_names = get_team_names(stepsData)\n",
    "for name in team_names:\n",
    "    total_steps_by_team = get_total_steps_by_team_name_from_data(stepsData, header, name)\n",
    "    print(\"Total steps of Team \" + name + \" is: \" + str(total_steps_by_team))\n"
   ]
  },
  {
   "cell_type": "markdown",
   "metadata": {},
   "source": [
    "**That's it for Lesson 4!**\n",
    "\n",
    "**See you next week!**\n",
    "\n",
    "## Some Takehome Exercises (Optional)\n",
    "<span>1. </span> Referring to the last code block of Lesson 4, what if we just want to know the team with the most number of steps? Write code / modify the code to obtain output like this:\n",
    "```\n",
    "The winning team is XXX, with xxx steps.\n",
    "```"
   ]
  },
  {
   "cell_type": "code",
   "execution_count": null,
   "metadata": {},
   "outputs": [],
   "source": [
    "# Start question 1 here.\n",
    "\n"
   ]
  },
  {
   "cell_type": "markdown",
   "metadata": {},
   "source": [
    "<span>2. </span>\n",
    "a) Write a function to calculate the accumulated number of steps from day 1 to day x for each participant.\n",
    "Example: Print the number of steps for each participant from day 1 to day 10.\n",
    "Sample output:\n",
    "```\n",
    "Participant 1's steps until day 7: 134267\n",
    "Participant 2's steps until day 7: 146012\n",
    "Participant 3's steps until day 7: 139920\n",
    "...\n",
    "```\n",
    "b) Integrate with the \"input\" concept from Lesson 2, input the day that you want to calculate until, i.e. the cutoff day, and call the function you wrote in 2a.\n",
    "Sample output:\n",
    "```\n",
    "Enter the cut-off day: 7\n",
    "Participant 1's steps until day 7 : 134267\n",
    "Participant 2's steps until day 7 : 146012\n",
    "Participant 3's steps until day 7 : 139920\n",
    "...\n",
    "```\n",
    "c) Reusing the function written in 2a, print all situations where the participants' accumulated number of steps exceeds 400,000. (Hint: calculate the number of accumulated steps every day.)\n",
    "Sample output:\n",
    "```\n",
    "Participant 38 on day 24 walked 406222\n",
    "Participant 3 on day 25 walked 408190\n",
    "...\n",
    "```"
   ]
  },
  {
   "cell_type": "code",
   "execution_count": null,
   "metadata": {},
   "outputs": [],
   "source": [
    "# Start question 2 here.\n",
    "\n"
   ]
  },
  {
   "cell_type": "markdown",
   "metadata": {},
   "source": [
    "<span>3. </span> (Very challenging) Following 2c, write code to find the first person who hit 400,000 steps.\n",
    "Hints: \n",
    "* To read in the csv and store it as a table, which would be represented by an array of arrays.\n",
    "* To update the table of steps to a table of accumulated steps.\n",
    "eg: \n",
    "```\n",
    "| 1 | 2 | 3 | 4 |       | 1 | 3 |  6 | 10 |\n",
    "| 4 | 3 | 2 | 1 |  -->  | 4 | 7 |  9 | 10 |\n",
    "| 3 | 4 | 5 | 6 |       | 3 | 7 | 12 | 18 |\n",
    "```\n",
    "* To loop through the table to find the first person who fulfills the condition."
   ]
  },
  {
   "cell_type": "code",
   "execution_count": null,
   "metadata": {},
   "outputs": [],
   "source": [
    "# Start challenging question 3 here.\n",
    "\n"
   ]
  },
  {
   "cell_type": "markdown",
   "metadata": {},
   "source": [
    "# Packages\n",
    "\n",
    "So far everything that we've been working with has been based on Python's rich standard library. However, with it being a popular language, there are many third party packages written by the community to expand on it's capabilities. Some popular packages include:\n",
    "* Pandas - wrangling and munging of tabular data\n",
    "* Numpy - numerical operations\n",
    "* Sci-kit learn - machine learning algorithms\n",
    "* Matplotlib - plotting\n",
    "* Tensorflow - machine learning and AI\n",
    "\n",
    "It can be tedious to manually install extra packages that one needs / depends on (a particular package can have dependencies on another 10 packages that has to be installed prior), and hence there's a need for some kind of standardized packaging system that allows for the ease of installation and distribution of packages - PyPI (Python Packaging Index) / Anaconda. Feel free to read more about them in the links below.\n",
    "\n",
    "[PyPI](https://pypi.org/help/)\n",
    "[Anaconda](https://www.anaconda.com/download/)\n",
    "\n",
    "For installation on your personal PC, I'd recommend for you to use Anaconda's distribution for ease of maintaining versions. At work however, due to admin rights restrictions, we may have to use install python independently followed by pip installing packages in PyPI.\n",
    "\n",
    "More details on packaging [here](http://the-hitchhikers-guide-to-packaging.readthedocs.io/en/latest/introduction.html)"
   ]
  }
 ],
 "metadata": {
  "kernelspec": {
   "display_name": "Python 3",
   "language": "python",
   "name": "python3"
  },
  "language_info": {
   "codemirror_mode": {
    "name": "ipython",
    "version": 3
   },
   "file_extension": ".py",
   "mimetype": "text/x-python",
   "name": "python",
   "nbconvert_exporter": "python",
   "pygments_lexer": "ipython3",
   "version": "3.6.4"
  }
 },
 "nbformat": 4,
 "nbformat_minor": 2
}
