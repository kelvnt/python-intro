{
 "cells": [
  {
   "cell_type": "markdown",
   "metadata": {},
   "source": [
    "## Lesson 5 Overview\n",
    "\n",
    "1. Pandas"
   ]
  },
  {
   "cell_type": "markdown",
   "metadata": {},
   "source": [
    "## Let's load today's lesson!\n",
    "\n",
    "### Open Azure Notebooks library \n",
    "\n",
    "Go to https://notebooks.azure.com -> Sign in if needed -> Select **python-intro**\n",
    "\n",
    "### Update lesson file to latest version\n",
    "\n",
    "Select **New** -> **From URL** -> input https://raw.githubusercontent.com/kelvnt/python-intro/master/lessons/Lesson5.ipynb (URL is available in **Lesson5.ipynb**) -> Click outside input then select **Upload** (overwrite if needed)\n",
    "\n",
    "### Open Jupyter lab\n",
    "\n",
    "From your browser's bookmark or **Run** -> Change browser URL path from **/nb/tree** to **/nb/lab**\n",
    "\n",
    "Select **Lesson5.ipynb**"
   ]
  },
  {
   "cell_type": "markdown",
   "metadata": {},
   "source": [
    "## Let's talk about Pandas\n",
    "\n",
    "What *is* Pandas? [Pandas](https://pandas.pydata.org/) is an open source library providing high-performance, easy-to-use data structures and data analysis tools for Python. Though you might have been thinking about adorable black and white pandas, this name was actually derived from the term *\"panel data\"*, an econometrics term for data sets that include observations over multiple time periods for the same individuals.\n",
    "\n",
    "Pandas is often used together with [Numpy](http://www.numpy.org/) and [scikit-learn](http://scikit-learn.org/stable/index.html)."
   ]
  },
  {
   "cell_type": "code",
   "execution_count": null,
   "metadata": {},
   "outputs": [],
   "source": [
    "# let's import pandas library\n",
    "import pandas as pd"
   ]
  },
  {
   "cell_type": "markdown",
   "metadata": {},
   "source": [
    "### Pandas Data structure - Series\n",
    "\n",
    "A Series is a **one-dimensional** array with labeled axes."
   ]
  },
  {
   "cell_type": "code",
   "execution_count": null,
   "metadata": {},
   "outputs": [],
   "source": [
    "# read data into series where index starts from 0\n",
    "fruits = pd.Series([\"Apple\", \"Banana\", \"Mango\"])\n",
    "fruits[2]    # returns 'Mango'"
   ]
  },
  {
   "cell_type": "code",
   "execution_count": null,
   "metadata": {},
   "outputs": [],
   "source": [
    "# You can pass in index to create your own index\n",
    "fruits = pd.Series([\"Apple\", \"Banana\", \"Mango\"], index=['a', 'b', 'm'])\n",
    "fruits['m']  # returns 'Mango'"
   ]
  },
  {
   "cell_type": "code",
   "execution_count": null,
   "metadata": {},
   "outputs": [],
   "source": [
    "# Do this again, this time as a dictionary\n",
    "fruits = pd.Series({'a': \"Apple\", 'b': \"Banana\", 'm': \"Mango\"})\n",
    "fruits['m']  # returns 'Mango'"
   ]
  },
  {
   "cell_type": "markdown",
   "metadata": {},
   "source": [
    "### Pandas Data structure - DataFrame\n",
    "\n",
    "A DataFrame is a **2-dimensional** table with labeled axes. It acts like a dict-like container for Series objects."
   ]
  },
  {
   "cell_type": "code",
   "execution_count": null,
   "metadata": {},
   "outputs": [],
   "source": [
    "# Let's build a DataFrame of fruit inventory across all floors\n",
    "fruit_inventory = {\n",
    "    \"fruit\": [\"Apple\", \"Banana\", \"Mango\"],\n",
    "    \"fruit_count_2F\": [75, 150, 250],\n",
    "    \"fruit_count_6F\": [80, 120, 150],\n",
    "    \"fruit_count_8F\": [50, 100, 200],\n",
    "    \"fruit_count_9F\": [100, 200, 350],    \n",
    "  }\n",
    "df1 = pd.DataFrame(fruit_inventory)\n",
    "df1"
   ]
  },
  {
   "cell_type": "code",
   "execution_count": null,
   "metadata": {},
   "outputs": [],
   "source": [
    "# You get a Series if you access a DataFrame's index\n",
    "df1.fruit  # you can also use df1[\"fruit\"]"
   ]
  },
  {
   "cell_type": "code",
   "execution_count": null,
   "metadata": {},
   "outputs": [],
   "source": [
    "# let's create a second dataframe\n",
    "fruit_property = {\n",
    "    \"fruit\": [\"Apple\", \"Banana\", \"Mango\", \"Papaya\"],\n",
    "    \"fruit_color\": [\"red\", \"yellow\", \"yellow\", \"orange\"],\n",
    "  }\n",
    "df2 = pd.DataFrame(fruit_property)\n",
    "df2"
   ]
  },
  {
   "cell_type": "markdown",
   "metadata": {},
   "source": [
    "#### Merging DataFrames"
   ]
  },
  {
   "cell_type": "code",
   "execution_count": null,
   "metadata": {},
   "outputs": [],
   "source": [
    "# Left merge DataFrames df1 and df2 using the 'fruit' column as key \n",
    "# This only retains rows which exist in df1\n",
    "\n",
    "fruit_list1 = df1.merge(df2, on='fruit', how='left')\n",
    "fruit_list1"
   ]
  },
  {
   "cell_type": "code",
   "execution_count": null,
   "metadata": {},
   "outputs": [],
   "source": [
    "# Outer merge DataFrames df1 and df2 using the 'fruit' column as key \n",
    "# All rows are kept, and empty values are filled with NaN (Not a Number)\n",
    "\n",
    "fruit_list2 = df1.merge(df2, on=\"fruit\", how=\"outer\")\n",
    "fruit_list2"
   ]
  },
  {
   "cell_type": "markdown",
   "metadata": {},
   "source": [
    "#### Removing NaN and casting numbers to integer"
   ]
  },
  {
   "cell_type": "code",
   "execution_count": null,
   "metadata": {},
   "outputs": [],
   "source": [
    "# Let's replace NaN value in fruit count columns with 0\n",
    "fruit_list2 = fruit_list2.fillna(0)\n",
    "\n",
    "# Let's remove the decimal places that appeared in fruit count after merging DataFrames\n",
    "fruit_list2 = fruit_list2.apply(pd.to_numeric, downcast='integer', errors='ignore')\n",
    "\n",
    "fruit_list2"
   ]
  },
  {
   "cell_type": "markdown",
   "metadata": {},
   "source": [
    "#### Summing by row in DataFrame"
   ]
  },
  {
   "cell_type": "code",
   "execution_count": null,
   "metadata": {},
   "outputs": [],
   "source": [
    "# Now let's create a column to sum the total fruit count across all floors\n",
    "\n",
    "# data.loc[<row selection>, <column selection>]\n",
    "# In this case, we're applying across all rows for a selected column range\n",
    "# axis=1 means row-wise, while axis=0 means column-wise\n",
    "\n",
    "fruit_list2['fruit_count_total']= fruit_list2.loc[:, 'fruit_count_2F':'fruit_count_9F'].sum(axis=1)\n",
    "fruit_list2"
   ]
  },
  {
   "cell_type": "markdown",
   "metadata": {},
   "source": [
    "#### Summing by column in DataFrame"
   ]
  },
  {
   "cell_type": "code",
   "execution_count": null,
   "metadata": {},
   "outputs": [],
   "source": [
    "# Let's count all the fruits on each floor\n",
    "\n",
    "# First, create a list of column names which include 'F' \n",
    "columns = [column for column in list(fruit_list2) if 'F' in column]\n",
    "\n",
    "# Next, sum within each column for the column names which include 'F'\n",
    "fruit_count_floor_total = fruit_list2[columns].sum()\n",
    "fruit_count_floor_total"
   ]
  },
  {
   "cell_type": "markdown",
   "metadata": {},
   "source": [
    "#### Average "
   ]
  },
  {
   "cell_type": "code",
   "execution_count": null,
   "metadata": {},
   "outputs": [],
   "source": [
    "# Let's find out the average fruit count for each floor\n",
    "\n",
    "fruit_list2['fruit_count_avg']= fruit_list2.loc[:, 'fruit_count_2F':'fruit_count_9F'].mean(axis=1).round(0)\n",
    "fruit_list2.sort_values('fruit_count_avg', ascending=False)"
   ]
  },
  {
   "cell_type": "markdown",
   "metadata": {},
   "source": [
    "#### Sorting rows in DataFrame"
   ]
  },
  {
   "cell_type": "code",
   "execution_count": null,
   "metadata": {},
   "outputs": [],
   "source": [
    "# Great! Now let's sort the fruit count total in descending order\n",
    "fruit_list2.sort_values('fruit_count_total', ascending=False)"
   ]
  },
  {
   "cell_type": "code",
   "execution_count": null,
   "metadata": {},
   "outputs": [],
   "source": [
    "# sort and display in descending order, only fruits with count exceeding 500 \n",
    "\n",
    "fruit_list2[fruit_list2['fruit_count_total']>500].sort_values('fruit_count_total', ascending=False)"
   ]
  },
  {
   "cell_type": "markdown",
   "metadata": {},
   "source": [
    "#### Retrieving certain records in DataFrame"
   ]
  },
  {
   "cell_type": "code",
   "execution_count": null,
   "metadata": {},
   "outputs": [],
   "source": [
    "# Let's retrieve rows containing only yellow fruits\n",
    "fruit_list2.loc[fruit_list2['fruit_color'] == \"yellow\"]"
   ]
  },
  {
   "cell_type": "code",
   "execution_count": null,
   "metadata": {},
   "outputs": [],
   "source": [
    "# Get unique fruit colors\n",
    "print(fruit_list2['fruit_color'].unique())"
   ]
  },
  {
   "cell_type": "markdown",
   "metadata": {},
   "source": [
    "#### Grouping and summing in DataFrames"
   ]
  },
  {
   "cell_type": "code",
   "execution_count": null,
   "metadata": {},
   "outputs": [],
   "source": [
    "# Group fruit count by fruit color\n",
    "fruit_list2.groupby('fruit_color').sum()"
   ]
  },
  {
   "cell_type": "markdown",
   "metadata": {},
   "source": [
    "#### Adding and deleting columns in DataFrames"
   ]
  },
  {
   "cell_type": "code",
   "execution_count": null,
   "metadata": {},
   "outputs": [],
   "source": [
    "# Add a new column 'in_stock' based on function applied to column 'fruit_count_total'\n",
    "# 'in_stock' = True only if fruit_count_total > 0\n",
    "\n",
    "fruit_list2['in_stock'] = fruit_list2['fruit_count_total'].apply(lambda x: True if x > 0 else False)\n",
    "fruit_list2"
   ]
  },
  {
   "cell_type": "code",
   "execution_count": null,
   "metadata": {},
   "outputs": [],
   "source": [
    "# Let's delete 'in_stock' column\n",
    "del fruit_list2['in_stock']\n",
    "fruit_list2"
   ]
  },
  {
   "cell_type": "markdown",
   "metadata": {},
   "source": [
    "### Now it's your turn to use Pandas to explore the Titanic data"
   ]
  },
  {
   "cell_type": "code",
   "execution_count": null,
   "metadata": {},
   "outputs": [],
   "source": [
    "# Ready? Let's read the Biggest Loser csv data into a dataframe \n",
    "\n",
    "df = pd.read_csv(\"../data/titanic.csv\")"
   ]
  },
  {
   "cell_type": "markdown",
   "metadata": {},
   "source": [
    "#### Retrieve top records in DataFrame"
   ]
  },
  {
   "cell_type": "code",
   "execution_count": null,
   "metadata": {},
   "outputs": [],
   "source": [
    "df.head(5)"
   ]
  },
  {
   "cell_type": "markdown",
   "metadata": {},
   "source": [
    "#### Retrieve bottom records in DataFrame"
   ]
  },
  {
   "cell_type": "code",
   "execution_count": null,
   "metadata": {},
   "outputs": [],
   "source": [
    "# That's better. How about the bottom 3 rows?\n",
    "df.tail(3)"
   ]
  },
  {
   "cell_type": "markdown",
   "metadata": {},
   "source": [
    "### Now you have everything you need to code the following by yourselves!"
   ]
  },
  {
   "cell_type": "code",
   "execution_count": null,
   "metadata": {},
   "outputs": [],
   "source": [
    "# Your turn now! Let's print unique ports of embarkation (C = Cherbourg, Q = Queenstown, S = Southampton)\n",
    "\n",
    "\n"
   ]
  },
  {
   "cell_type": "code",
   "execution_count": null,
   "metadata": {},
   "outputs": [],
   "source": [
    "# Try retrieving data for passengers who embarked from Southampton\n",
    "\n",
    "\n"
   ]
  },
  {
   "cell_type": "code",
   "execution_count": null,
   "metadata": {},
   "outputs": [],
   "source": [
    "# Find the overall number of males and females on Titanic\n",
    "\n",
    "\n"
   ]
  },
  {
   "cell_type": "code",
   "execution_count": null,
   "metadata": {},
   "outputs": [],
   "source": [
    "# Now add a column called \"family_members\" which takes the sum of the number of siblings/spouse & parents/children\n",
    "\n",
    "\n"
   ]
  },
  {
   "cell_type": "code",
   "execution_count": null,
   "metadata": {},
   "outputs": [],
   "source": [
    "# delete the columns SibSp & Parch\n",
    "\n",
    "\n"
   ]
  },
  {
   "cell_type": "code",
   "execution_count": null,
   "metadata": {},
   "outputs": [],
   "source": [
    "# sort and display in descending order, passengers with the most family members on the ship\n",
    "\n",
    "\n"
   ]
  },
  {
   "cell_type": "code",
   "execution_count": null,
   "metadata": {},
   "outputs": [],
   "source": [
    "# calculate the overall survival rate\n",
    "\n",
    "\n"
   ]
  },
  {
   "cell_type": "code",
   "execution_count": null,
   "metadata": {},
   "outputs": [],
   "source": [
    "# calculate the survival rate by ticket class\n",
    "\n",
    "\n"
   ]
  },
  {
   "cell_type": "code",
   "execution_count": null,
   "metadata": {},
   "outputs": [],
   "source": [
    "# calculate the survival rate by ticket class and by sex\n",
    "\n",
    "\n"
   ]
  },
  {
   "cell_type": "code",
   "execution_count": null,
   "metadata": {},
   "outputs": [],
   "source": [
    "# calculate the median fare by ticket class, for male passengers\n",
    "\n",
    "\n"
   ]
  },
  {
   "cell_type": "code",
   "execution_count": null,
   "metadata": {},
   "outputs": [],
   "source": [
    "# calculate the survival rate by port of embarkation, for passengers aged 30 and above\n",
    "\n",
    "\n"
   ]
  }
 ],
 "metadata": {
  "kernelspec": {
   "display_name": "Python 3",
   "language": "python",
   "name": "python3"
  },
  "language_info": {
   "codemirror_mode": {
    "name": "ipython",
    "version": 3
   },
   "file_extension": ".py",
   "mimetype": "text/x-python",
   "name": "python",
   "nbconvert_exporter": "python",
   "pygments_lexer": "ipython3",
   "version": "3.6.6"
  }
 },
 "nbformat": 4,
 "nbformat_minor": 2
}
