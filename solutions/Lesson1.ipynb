{
 "cells": [
  {
   "cell_type": "markdown",
   "metadata": {},
   "source": [
    "# Introduction to Python\n",
    "*Credits to the Expedia EWE Singapore team (CodeSingapore@expedia.com). Multiple lessons were copied and rearranged from their github repo..*\n",
    "\n",
    "* **Class:** \n",
    "  * Please introduce yourselves\n",
    "  * State if you have learnt programming before (and if so which language)\n",
    "  * Tell what you hope to achieve at the end of the course"
   ]
  },
  {
   "cell_type": "markdown",
   "metadata": {},
   "source": [
    "## Course Overview\n",
    "\n",
    "* **Programming Language:** Python\n",
    "* **Data:** We will use the titanic dataset\n",
    "* **Every week:** You will learn something new in Python to help you answer questions on the titanic dataset\n",
    "* **At the end of the course:** You should be able to do simple data analysis using Python "
   ]
  },
  {
   "cell_type": "markdown",
   "metadata": {},
   "source": [
    "## Why is Python named Python?\n",
    "\n",
    "[Guido van Rossum](https://en.wikipedia.org/wiki/Guido_van_Rossum) is the creator of Python and also Python's [\"Benevolent Dictator For Life\" (BDFL)](https://en.wikipedia.org/wiki/Benevolent_dictator_for_life) - recently stepped down as of Jul 2018. When he started working on Python, he was also reading the published scripts from [\"Monty Python's Flying Circus\"](https://en.wikipedia.org/wiki/Monty_Python%27s_Flying_Circus), a BBC comedy series from the 1970s. Van Rossum thought he needed a name that was short, unique, and slightly mysterious, so he decided to call the language Python.\n",
    "Python was first introduced in 1990."
   ]
  },
  {
   "cell_type": "markdown",
   "metadata": {},
   "source": [
    "## But why are *we* learning Python?\n",
    "\n",
    "Python is a powerful high-level programming language, yet readable and easy to understand. No matter which [programming language ranking](https://techbeacon.com/programming-language-rankings-which-ones-matter) you refer to, Python is one of the most popular programming languages now. \n",
    "\n",
    "To find out more, check out [this article](https://medium.freecodecamp.org/what-programming-language-should-i-learn-first-%CA%87d%C4%B1%C9%B9%C9%94s%C9%90%CA%8C%C9%90%C9%BE-%C9%B9%C7%9D%CA%8Dsu%C9%90-19a33b0a467d) which includes a cool diagram on which programming language to learn first."
   ]
  },
  {
   "cell_type": "markdown",
   "metadata": {},
   "source": [
    "## Let's create your library to load your lessons!\n",
    "\n",
    "* Visit https://github.com/kelvnt/python-intro\n",
    "* At the bottom left of the screen, click on **Launch AzureNB badge** -> **Clone** -> Sign-in using your own email -> **Clone** again\n",
    "* Click on **Setting** -> Deselect **Public library** -> **Save** -> Make sure that the **Private** badge is displayed below library's name\n",
    "* Click on **Run** -> Change browser URL path from **/nb/tree** to **/nb/lab**\n",
    "* Bookmark this URL"
   ]
  },
  {
   "cell_type": "markdown",
   "metadata": {},
   "source": [
    "## Wait.. I don't need to install anything? \n",
    "\n",
    "No, you don't. We are hosting everything on **JupyterLab** (a web-based user interface that allows you to run your code in a flexible and integrated manner) and **Azure Notebook** (which provides free online access to Jupyter notebooks and JupyterLab).\n",
    "\n",
    "If you would like to install an [Integrated Development Environment (IDE)](https://en.wikipedia.org/wiki/Integrated_development_environment) for your own Python exploration, I'd recommend using Spyder which comes with the Anaconda installation that you can consider for your own laptop."
   ]
  },
  {
   "cell_type": "markdown",
   "metadata": {},
   "source": [
    "## Done? Let's talk about different File Types\n",
    "\n",
    "* A file (like this one!) which has a mixture of text as well as Python code is an iPython notebook, and has the file extension *.ipynb*\n",
    "* A file with only Python code is a Python script, and has the file extension *.py*"
   ]
  },
  {
   "cell_type": "markdown",
   "metadata": {},
   "source": [
    "## We will teach you 3 methods to run Python code\n",
    "1. Run python code within an iPython notebook (good for code snippets)\n",
    "2. Run python command from the *Python* terminal (similar to method 1, just not so pretty)\n",
    "3. Run python script from the terminal (for running entire programs)"
   ]
  },
  {
   "cell_type": "markdown",
   "metadata": {},
   "source": [
    "## Method 1: Run Python code within iPython notebook"
   ]
  },
  {
   "cell_type": "code",
   "execution_count": 1,
   "metadata": {},
   "outputs": [
    {
     "name": "stdout",
     "output_type": "stream",
     "text": [
      "Hello World\n"
     ]
    }
   ],
   "source": [
    "# Hello, this is a code cell.\n",
    "# Comments start with # symbol, and don't get executed. \n",
    "\n",
    "# Select this cell and click on the play button above to run\n",
    "\n",
    "print(\"Hello World\")"
   ]
  },
  {
   "cell_type": "markdown",
   "metadata": {},
   "source": [
    "## Awesome, you've just written your first Python code!\n",
    "\n",
    "Want to try some more? Run the following cells!"
   ]
  },
  {
   "cell_type": "code",
   "execution_count": 8,
   "metadata": {},
   "outputs": [
    {
     "data": {
      "text/plain": [
       "2"
      ]
     },
     "execution_count": 8,
     "metadata": {},
     "output_type": "execute_result"
    }
   ],
   "source": [
    "1 + 1"
   ]
  },
  {
   "cell_type": "code",
   "execution_count": 9,
   "metadata": {},
   "outputs": [
    {
     "data": {
      "text/plain": [
       "3"
      ]
     },
     "execution_count": 9,
     "metadata": {},
     "output_type": "execute_result"
    }
   ],
   "source": [
    "7 - 4"
   ]
  },
  {
   "cell_type": "code",
   "execution_count": 10,
   "metadata": {},
   "outputs": [
    {
     "data": {
      "text/plain": [
       "6"
      ]
     },
     "execution_count": 10,
     "metadata": {},
     "output_type": "execute_result"
    }
   ],
   "source": [
    "2 * 3"
   ]
  },
  {
   "cell_type": "code",
   "execution_count": 11,
   "metadata": {},
   "outputs": [
    {
     "data": {
      "text/plain": [
       "2.5"
      ]
     },
     "execution_count": 11,
     "metadata": {},
     "output_type": "execute_result"
    }
   ],
   "source": [
    "5 / 2"
   ]
  },
  {
   "cell_type": "markdown",
   "metadata": {},
   "source": [
    "## Now, it's your turn to add a new cell!\n",
    "\n",
    "* Click on \"+\" button above to add a new cell\n",
    "* Add a new Code cell and create your own simple print command or math operations in Python"
   ]
  },
  {
   "cell_type": "code",
   "execution_count": 12,
   "metadata": {},
   "outputs": [
    {
     "name": "stdout",
     "output_type": "stream",
     "text": [
      "Kelvin\n"
     ]
    }
   ],
   "source": [
    "print(\"Kelvin\")"
   ]
  },
  {
   "cell_type": "code",
   "execution_count": 13,
   "metadata": {},
   "outputs": [
    {
     "name": "stdout",
     "output_type": "stream",
     "text": [
      "k\n"
     ]
    }
   ],
   "source": [
    "print(\"k\")"
   ]
  },
  {
   "cell_type": "markdown",
   "metadata": {},
   "source": [
    "## Method 2: Run python command from the *Python* terminal \n",
    "\n",
    "* Click the \"+\" button on the navigation pane (left column), and a new Launcher tab will appear\n",
    "* Select Terminal and run the following commands\n",
    "\n",
    "> nbuser@nbserver:~\\$ python\n",
    "\n",
    "* This will launch Python terminal where the prompt looks like \">>>\"\n",
    "* Try the same commands as you tried previously, and you'll find the same results!\n",
    "\n",
    "> print(\"Hello world\")\n",
    "\n",
    "> 1+1"
   ]
  },
  {
   "cell_type": "markdown",
   "metadata": {},
   "source": [
    "## Method 3: Run Python script from the terminal\n",
    "\n",
    "### Let's create the Python script first!\n",
    "\n",
    "* Click the \"+\" button on the navigation pane (left column), and a new Launcher tab will appear\n",
    "* Select TextEditor, and a new file *untitled.txt* will be created\n",
    "* From the navigation pane, right click and rename the file to *hello.py* (replace .txt too). Check if the file icon has changed to the Python icon\n",
    "* Add the following content in *hello.py*: print(\"Hello, world!\") \n",
    "* Save from menu option *\"File > Save Python File\"* or press Ctrl+S (Windows) / Cmd+S (OSX)"
   ]
  },
  {
   "cell_type": "markdown",
   "metadata": {},
   "source": [
    "### Now to run the Python script!\n",
    "\n",
    "* Click the \"+\" button on the navigation pane (left column), a new Launcher tab will appear\n",
    "* Select Terminal and run the following commands\n",
    "\n",
    "> nbuser@nbserver:~\\$ cd library\n",
    ">\n",
    "> nbuser@nbserver:~\\$ python hello.py\n",
    "\n",
    "* You should get the same results as above!"
   ]
  },
  {
   "cell_type": "markdown",
   "metadata": {},
   "source": [
    "## Variables\n",
    "\n",
    "### What is a variable?\n",
    "\n",
    "Variables are used to store information to be referenced and manipulated in a computer program. In simple words, they are containers that hold information.\n",
    "\n",
    "Their sole purpose is to label and store data in memory. This data can then be used throughout your program.\n",
    "\n",
    "### Why are they important?\n",
    "\n",
    "They provide a way of labeling data with a descriptive name, so our programs can be understood more clearly by the reader and ourselves.\n",
    "\n",
    "Also, by storing data in a variable, you can access this data anywhere in your program without duplicating it. Therefore, it's easier to read and manipulate the data throughout your program\n",
    "\n",
    "### How to assign a value to a variable\n",
    "\n",
    "```python\n",
    "myVar = 42\n",
    "```\n",
    "\n",
    "That's it! Easy right?\n",
    "\n",
    "### Inputs / Outputs\n",
    "\n",
    "Many times in this lesson you will read words like \"inputs\" or \"output\". Just a quick clarification on what these two terms refer to:\n",
    "\n",
    "- Inputs are all the data/variables that the program stores or receives\n",
    "\n",
    "```python\n",
    "# My inputs:\n",
    "aVar = 4\n",
    "anotherVar = 4 * 8\n",
    "```\n",
    "Inputs can also come from the user as we'll learn further down in this lesson.\n",
    "\n",
    "- Outputs are everything that a program returns or print out.\n",
    "\n",
    "For instance:"
   ]
  },
  {
   "cell_type": "code",
   "execution_count": 14,
   "metadata": {},
   "outputs": [
    {
     "name": "stdout",
     "output_type": "stream",
     "text": [
      "4\n",
      "10 times 4: 40\n"
     ]
    },
    {
     "data": {
      "text/plain": [
       "32"
      ]
     },
     "execution_count": 14,
     "metadata": {},
     "output_type": "execute_result"
    }
   ],
   "source": [
    "# My inputs:\n",
    "aVar = 4\n",
    "anotherVar = 4 * 8\n",
    "\n",
    "# My outputs:\n",
    "print(aVar)\n",
    "print(\"10 times 4:\", 10 * 4)\n",
    "anotherVar"
   ]
  },
  {
   "cell_type": "markdown",
   "metadata": {},
   "source": [
    "### Let's try!\n",
    "\n",
    "You can run the code cell below to print the result."
   ]
  },
  {
   "cell_type": "code",
   "execution_count": 15,
   "metadata": {},
   "outputs": [
    {
     "name": "stdout",
     "output_type": "stream",
     "text": [
      "11.0\n"
     ]
    }
   ],
   "source": [
    "numberStudents = 44\n",
    "numberRooms = 4\n",
    "\n",
    "# Calculate an even number of students per classroom\n",
    "numberOfStudentsPerRoom = numberStudents / numberRooms\n",
    "\n",
    "print(numberOfStudentsPerRoom)"
   ]
  },
  {
   "cell_type": "markdown",
   "metadata": {},
   "source": [
    "Your turn!\n",
    "\n",
    "Can you replace the ??? below and solve the following code?"
   ]
  },
  {
   "cell_type": "code",
   "execution_count": 16,
   "metadata": {},
   "outputs": [
    {
     "name": "stdout",
     "output_type": "stream",
     "text": [
      "75.36\n"
     ]
    }
   ],
   "source": [
    "pi = 3.14\n",
    "radius = 12\n",
    "\n",
    "# Can you calculate the perimeter of a circle using the two variables above?\n",
    "# (Gentle reminder: P=2πr)\n",
    "perimeter = 2 * pi * radius\n",
    "\n",
    "print(perimeter)"
   ]
  },
  {
   "cell_type": "markdown",
   "metadata": {},
   "source": [
    "After modifying the code above and running it, the output should be **75.36**\n",
    "\n",
    "If you got it right, you can continue to the next section, *Types*.\n",
    "\n",
    "## Basic Types\n",
    "\n",
    "Not all data are equal!\n",
    "\n",
    "In real life, you can't manipulate numbers the same way you manipulate words. You don’t use the same rules or syntax when you solve an equation or write a sentence.\n",
    "\n",
    "That's exactly the same with programming languages!\n",
    "\n",
    "That’s why Python uses **Types** to differentiate variables, so developers can manipulate different types of data.\n",
    "\n",
    "Let's see the different **Types** existing in Python.\n",
    "\n",
    "### Numbers\n",
    "\n",
    "As we have seen in the previous section, Python supports two types of numbers - **integers** and **floating point** numbers.\n",
    "\n",
    "**Integers** can be positive or negative, but don't have decimal values. **Floats** are the data type you use for manipulating decimal numbers."
   ]
  },
  {
   "cell_type": "code",
   "execution_count": 17,
   "metadata": {},
   "outputs": [
    {
     "name": "stdout",
     "output_type": "stream",
     "text": [
      "-3\n",
      "7\n",
      "-1.37\n",
      "9.99999\n"
     ]
    }
   ],
   "source": [
    "myNegInt = -3\n",
    "myPosInt = 7\n",
    "myNegFloat = -1.37\n",
    "myPosFloat = 9.99999\n",
    "\n",
    "print(myNegInt)\n",
    "print(myPosInt)\n",
    "print(myNegFloat)\n",
    "print(myPosFloat)"
   ]
  },
  {
   "cell_type": "markdown",
   "metadata": {},
   "source": [
    "Easy!\n",
    "\n",
    "#### Operators\n",
    "\n",
    "Integers and Floats support all the following arithmetic operations:"
   ]
  },
  {
   "cell_type": "code",
   "execution_count": 18,
   "metadata": {},
   "outputs": [
    {
     "name": "stdout",
     "output_type": "stream",
     "text": [
      "13\n",
      "-13\n",
      "84\n",
      "3.3333333333333335\n",
      "4.0\n",
      "2\n",
      "8\n"
     ]
    }
   ],
   "source": [
    "# Addition\n",
    "print(10 + 3)  # 13\n",
    "\n",
    "# Substraction\n",
    "print(-3 - 10)  # -13\n",
    "\n",
    "# Multiplication\n",
    "print(6 * 7 * 2)  # 84\n",
    "\n",
    "# Division (the result of a division is always a float)\n",
    "print(10 / 3)  # 3.3333333\n",
    "print(8 / 2)  # 4.0\n",
    "\n",
    "# Modulo\n",
    "# The modulo (%) operator returns the integer remainder of the division. dividend % divisor = remainder.\n",
    "print(10 % 4)  # 2\n",
    "\n",
    "# Power (double star)\n",
    "print(2 ** 3)  # 8\n"
   ]
  },
  {
   "cell_type": "code",
   "execution_count": 19,
   "metadata": {},
   "outputs": [
    {
     "name": "stdout",
     "output_type": "stream",
     "text": [
      "12.0\n",
      "5.0\n"
     ]
    }
   ],
   "source": [
    "# The order of operations follow the same rules as written equations.\n",
    "# You can use parenthesis to group operations\n",
    "# Can you tell what will be the result of the following equations before clicking on Run?\n",
    "print(3 * 10 * 2 / 5)\n",
    "print(10 / ((8 - 7) * 2))"
   ]
  },
  {
   "cell_type": "markdown",
   "metadata": {},
   "source": [
    "### Booleans \n",
    "\n",
    "Booleans are specific types that reprensent a statement or a condition which can be **True** or **False**\n"
   ]
  },
  {
   "cell_type": "code",
   "execution_count": 20,
   "metadata": {
    "scrolled": true
   },
   "outputs": [
    {
     "name": "stdout",
     "output_type": "stream",
     "text": [
      "True\n",
      "False\n",
      "is 2 greater than 3 ? False\n",
      "is 2 lower than 3 ? True\n",
      "is 2 equal 3 ? False\n",
      "is 2 equal 2 ? True\n",
      "is 3 different than 100 ? True\n",
      "is 3 different than 3 ? False\n",
      "is 3 greater or equal to 100 ? False\n",
      "is 3 lower or equal to 100 ? True\n",
      "is 3 greater or equal to 3 ? True\n",
      "is 3 lower or equal to 3 ? True\n",
      "not True is False\n",
      "not False is True\n",
      "not 2==2 is False\n"
     ]
    }
   ],
   "source": [
    "myTrueBoolean = True\n",
    "myFalseBoolean = False\n",
    "\n",
    "print(myTrueBoolean)\n",
    "print(myFalseBoolean)\n",
    "\n",
    "# Dynamically set a boolean value from a condition\n",
    "is2GreaterThan3 = 2 > 3\n",
    "is2LowerThan3 = 2 < 3\n",
    "\n",
    "print(\"is 2 greater than 3 ?\", is2GreaterThan3)\n",
    "print(\"is 2 lower than 3 ?\", is2LowerThan3)\n",
    "\n",
    "# Since a single = sign is used to assign value to a variable\n",
    "# In order to check equality, we use a double == sign\n",
    "# We can also group the condition inside parenthesis for better readability\n",
    "\n",
    "is2Equal3 = (2 == 3)\n",
    "is2Equal2 = (2 == 2)\n",
    "\n",
    "print(\"is 2 equal 3 ?\", is2Equal3)\n",
    "print(\"is 2 equal 2 ?\", is2Equal2)\n",
    "\n",
    "# Inequality:  !=\n",
    "is3DifferentThan100 = (3 != 100)\n",
    "is3DifferentThan3 = (3 != 3)\n",
    "\n",
    "print(\"is 3 different than 100 ?\", is3DifferentThan100)\n",
    "print(\"is 3 different than 3 ?\", is3DifferentThan3)\n",
    "\n",
    "# Greater or Equal / Lower or Equal:  >= / <=\n",
    "is3GreaterEqualTo100 = (3 >= 100)\n",
    "is3LowerEqualTo100 = (3 <= 100)\n",
    "is3GreaterEqualTo3 = (3 >= 3)\n",
    "is3LowerEqualTo3 = (3 <= 3)\n",
    "\n",
    "print(\"is 3 greater or equal to 100 ?\", is3GreaterEqualTo100)\n",
    "print(\"is 3 lower or equal to 100 ?\", is3LowerEqualTo100)\n",
    "print(\"is 3 greater or equal to 3 ?\", is3GreaterEqualTo3)\n",
    "print(\"is 3 lower or equal to 3 ?\", is3LowerEqualTo3)\n",
    "\n",
    "# Inverse a boolean condition\n",
    "print(\"not True is\", not True)\n",
    "print(\"not False is\", not False)\n",
    "print(\"not 2==2 is\", not 2 == 2)"
   ]
  },
  {
   "cell_type": "markdown",
   "metadata": {},
   "source": [
    "#### Operators\n",
    "\n",
    "OK, it gets a bit tricky here.\n",
    "\n",
    "You can combine multiple conditions to make a full statement **True** or **False**, using two operators: **and** and **or**."
   ]
  },
  {
   "cell_type": "markdown",
   "metadata": {},
   "source": [
    "##### And\n",
    "\n",
    "* All the conditions must be True for the whole statement to be True\n",
    "* If at least one statement is False, then the whole statement is False\n",
    "\n",
    "E.g."
   ]
  },
  {
   "cell_type": "code",
   "execution_count": 21,
   "metadata": {},
   "outputs": [
    {
     "name": "stdout",
     "output_type": "stream",
     "text": [
      "(True and 2>3) returns False\n",
      "(True and 2<3 and 2==2 and not False) returns True\n"
     ]
    }
   ],
   "source": [
    "print(\"(True and 2>3) returns\", True and 2 > 3)  # False\n",
    "print(\"(True and 2<3 and 2==2 and not False) returns\", True and 2 < 3 and 2 == 2 and not False)  # True"
   ]
  },
  {
   "cell_type": "markdown",
   "metadata": {},
   "source": [
    "##### Or\n",
    "\n",
    "* If at least one condition is True, then the whole statement is True\n",
    "* All the condition must be False for the whole statement to be False\n",
    "\n",
    "E.g."
   ]
  },
  {
   "cell_type": "code",
   "execution_count": 22,
   "metadata": {},
   "outputs": [
    {
     "name": "stdout",
     "output_type": "stream",
     "text": [
      "(False or 2==100 or False or 1==1) returns True\n",
      "(not True or 2>3 or 2!=2 or False) returns False\n"
     ]
    }
   ],
   "source": [
    "print(\"(False or 2==100 or False or 1==1) returns\", (False) or (2 == 100) or (False) or (1 == 1))  # True\n",
    "print(\"(not True or 2>3 or 2!=2 or False) returns\", (not True) or (2 > 3) or (2 != 2) or (False))  # False"
   ]
  },
  {
   "cell_type": "markdown",
   "metadata": {},
   "source": [
    "### Strings\n",
    "\n",
    "Strings represent words, sentences, names, everything that you can label.\n",
    "\n",
    "They are declared using double quotes:"
   ]
  },
  {
   "cell_type": "code",
   "execution_count": 23,
   "metadata": {},
   "outputs": [
    {
     "name": "stdout",
     "output_type": "stream",
     "text": [
      "Hello!\n",
      "Hi, my name is !@£$%^&*() and I'm 46 years old.\n",
      "And he replied: \"Luke, I'm your father\"\n"
     ]
    }
   ],
   "source": [
    "myString = \"Hello!\"\n",
    "allCharactersAllowed = \"Hi, my name is !@£$%^&*() and I'm 46 years old.\"\n",
    "test = \"ahsdasd \\\"asodiasd\"\n",
    "\n",
    "print(myString)\n",
    "print(allCharactersAllowed)\n",
    "\n",
    "# If you want to use double quotes in your sentence, you need to escape it using a anti-slash character \"\\\" :\n",
    "\n",
    "quotesInMyQuotes = \"And he replied: \\\"Luke, I'm your father\\\"\"\n",
    "\n",
    "print(quotesInMyQuotes)"
   ]
  },
  {
   "cell_type": "markdown",
   "metadata": {},
   "source": [
    "#### Operators\n",
    "\n",
    "##### +\n",
    "\n",
    "You can merge two or more Strings together to create a new one. This operation is called **Concatenating**.\n",
    "\n",
    "To concatenate two or more Strings together, we use the `+` operator, because it's like \"adding\" Strings together."
   ]
  },
  {
   "cell_type": "code",
   "execution_count": 24,
   "metadata": {},
   "outputs": [
    {
     "name": "stdout",
     "output_type": "stream",
     "text": [
      "Hello world, my name is Emily!\n"
     ]
    }
   ],
   "source": [
    "helloWorld = \"Hello\" + \" \" + \"world,\"\n",
    "my = \" my \"\n",
    "nameIs = \"name is\"\n",
    "print(helloWorld + my + nameIs + \" Emily!\")"
   ]
  },
  {
   "cell_type": "markdown",
   "metadata": {},
   "source": [
    "##### *\n",
    "\n",
    "You can also \"multiply\" Strings, using the `*` operator. Not very useful though..."
   ]
  },
  {
   "cell_type": "code",
   "execution_count": 25,
   "metadata": {},
   "outputs": [
    {
     "name": "stdout",
     "output_type": "stream",
     "text": [
      "hellohellohellohellohellohellohellohellohellohello\n"
     ]
    }
   ],
   "source": [
    "lotsOfHellos = \"hello\" * 10\n",
    "print(lotsOfHellos)"
   ]
  },
  {
   "cell_type": "markdown",
   "metadata": {},
   "source": [
    "##### len() and [ ]\n",
    "\n",
    "More useful, Strings are considered like lists of characters (we will learn about Lists in another section).\n",
    "\n",
    "Which means we can access a specific character using its position (also called index).\n",
    "\n",
    "We can also get the \"size\" or \"length\" of a String, which represents the number of characters a String is made of."
   ]
  },
  {
   "cell_type": "code",
   "execution_count": 26,
   "metadata": {},
   "outputs": [
    {
     "name": "stdout",
     "output_type": "stream",
     "text": [
      "w\n",
      "helloWorld is made of 12 characters\n",
      "The last character of helloWorld is !\n"
     ]
    }
   ],
   "source": [
    "helloWorld = \"Hello world!\"\n",
    "# We use square brackets to indicate the position of the letter we want to get.\n",
    "# The position of the first letter of a String is 0, not 1!\n",
    "print(helloWorld[6]) # Returns 'w'\n",
    "\n",
    "# len() is the method used to return the length of a String\n",
    "print(\"helloWorld is made of\", len(helloWorld), \"characters\")\n",
    "\n",
    "# If we combine everything, we can get the last character of a String dynamically:\n",
    "# If it's too head-scratching, you can ask your teachers for help!\n",
    "print(\"The last character of helloWorld is\", helloWorld[len(helloWorld)-1]) "
   ]
  },
  {
   "cell_type": "markdown",
   "metadata": {},
   "source": [
    "### Casting\n",
    "\n",
    "Are `1`, `1.0`, and `\"1\"` the same?\n",
    "\n",
    "`1` is an Integer, `1.0` is a Float and `\"1\"` is a String. But, from a human perspective, the three of them just represent the number 1.\n",
    "\n",
    "Let's find out if Python considers them equal:"
   ]
  },
  {
   "cell_type": "code",
   "execution_count": 28,
   "metadata": {},
   "outputs": [
    {
     "name": "stdout",
     "output_type": "stream",
     "text": [
      "False\n",
      "True\n",
      "False\n"
     ]
    }
   ],
   "source": [
    "print(1 == \"1\")\n",
    "print(1 == 1.0)\n",
    "print(1.0 == \"1\")"
   ]
  },
  {
   "cell_type": "markdown",
   "metadata": {},
   "source": [
    "As you can see by running the code cell above, Python allows you to compare numbers (1 == 1.0 is True), but you can't compare numbers and Strings together (1.0 == \"1\" is False)!\n",
    "\n",
    "This means, when you want to compare data, you must make sure all the data is from the same type. To do so, you need to convert data from a Type to another. This is called **Casting**.\n",
    "\n",
    "In order to cast a value or a variable to a specific Type, you wrap them around the following methods:"
   ]
  },
  {
   "cell_type": "code",
   "execution_count": 29,
   "metadata": {},
   "outputs": [
    {
     "name": "stdout",
     "output_type": "stream",
     "text": [
      "1.0 and \"1\" are now both Integers: True\n",
      "1 and \"1\" are now both Floats: True\n",
      "1 and 1.0 are now both Strings. But are they equal? False\n"
     ]
    }
   ],
   "source": [
    "intFromFloat = int(1.0)\n",
    "intFromString = int(\"1\")\n",
    "print(\"1.0 and \\\"1\\\" are now both Integers:\", intFromFloat == intFromString) \n",
    "\n",
    "floatFromInt = float(1)\n",
    "floatFromString = float(\"1\")\n",
    "print(\"1 and \\\"1\\\" are now both Floats:\", floatFromInt == floatFromString) \n",
    "\n",
    "stringFromInt = str(1)\n",
    "stringFromFloat = str(1.0)\n",
    "print(\"1 and 1.0 are now both Strings. But are they equal?\", stringFromInt == stringFromFloat) "
   ]
  },
  {
   "cell_type": "markdown",
   "metadata": {},
   "source": [
    "Hey?! Why are the two Strings above not equal??\n",
    "\n",
    "Let's have a look at these two Strings in detail:"
   ]
  },
  {
   "cell_type": "code",
   "execution_count": 30,
   "metadata": {},
   "outputs": [
    {
     "name": "stdout",
     "output_type": "stream",
     "text": [
      "1 casted to String is: 1\n",
      "1.0 casted to String is: 1.0\n"
     ]
    }
   ],
   "source": [
    "print(\"1 casted to String is:\", str(1))\n",
    "print(\"1.0 casted to String is:\", str(1.0))"
   ]
  },
  {
   "cell_type": "markdown",
   "metadata": {},
   "source": [
    "Remember when you learnt that a String is a list of characters?\n",
    "\n",
    "Well, here, \n",
    "\n",
    "- `\"1\"` is a list of one character which is `1`.\n",
    "- `\"1.0\"` is a list of three characters which are `1`, `.`, and `0`.\n",
    "\n",
    "Therefore, these two Strings are not equal!\n",
    "\n",
    "##### You can even cast Booleans!\n",
    "\n",
    "1 is considered as True and 0 is considered as False.\n",
    "\n",
    "Let's have a deeper look:"
   ]
  },
  {
   "cell_type": "code",
   "execution_count": 31,
   "metadata": {},
   "outputs": [
    {
     "name": "stdout",
     "output_type": "stream",
     "text": [
      "True is True\n",
      "False is False\n",
      "Empty String is False\n",
      "The rest is True and True and True and True and True\n"
     ]
    }
   ],
   "source": [
    "intToBool = bool(1)\n",
    "floatToBool = bool(1.0)\n",
    "\n",
    "print(intToBool, \"is\", floatToBool)\n",
    "\n",
    "intToBool = bool(0)\n",
    "floatToBool = bool(0.0)\n",
    "\n",
    "print(intToBool, \"is\", floatToBool)\n",
    "\n",
    "# From Strings, any non-empty String will be considered True, no matter what's written.\n",
    "emptyStrToBool = bool(\"\")\n",
    "spaceStrToBool = bool(\" \")\n",
    "num1StrToBool = bool(\"1\")\n",
    "num0StrToBool = bool(\"0\")\n",
    "trueStrToBool = bool(\"True\")\n",
    "falseStrToBool = bool(\"False\")\n",
    "\n",
    "print(\"Empty String is\", emptyStrToBool)\n",
    "print(\"The rest is\", spaceStrToBool, \"and\", num1StrToBool, \"and\", num0StrToBool, \"and\", trueStrToBool, \"and\", falseStrToBool)\n"
   ]
  },
  {
   "cell_type": "markdown",
   "metadata": {},
   "source": [
    "## Recap\n",
    "\n",
    "Congratulations! You've learnt:\n",
    "\n",
    "* The origins of Python\n",
    "* How to create your library to load your lessons\n",
    "* The different file types: iPython notebook (*.ipynb*) and Python script (*.py*)\n",
    "* 3 methods to run Python code \n",
    "* Variables \n",
    "* Basic Types"
   ]
  },
  {
   "cell_type": "markdown",
   "metadata": {},
   "source": [
    "## Now let's save your file\n",
    "\n",
    "Select the file you've changed from the left side column. Right-click on mouse and select \"Download\", to save it to your local folder."
   ]
  },
  {
   "cell_type": "markdown",
   "metadata": {},
   "source": [
    "## References\n",
    "\n",
    "* The magic of Python has been summarized into this poem [Tim Peters - The Zen of Python](https://www.python.org/dev/peps/pep-0020/#id3)\n",
    "* [Variables and Types](https://www.learnpython.org/en/Variables_and_Types)"
   ]
  },
  {
   "cell_type": "markdown",
   "metadata": {},
   "source": [
    "## Homework\n",
    "\n",
    "Because what's a lesson without homework??????????????????????????????\n",
    "\n",
    "Let's imagine you're feeling very thankful to Kelvin and you want to buy him breakfast. Here are some of his favourite breakfast items:\n",
    "\n",
    "* Black sesame & cheese crescent (bread shop) - $2.20\n",
    "\n",
    "* 2 soft-boiled eggs (kopitiam) - $1.00\n",
    "\n",
    "* Plain prata (kopitiam) - $1.00\n",
    "\n",
    "* Egg prata (kopitiam) - $1.50\n",
    "\n",
    "* Kopi O kosong (kopitiam) - $0.90\n",
    "\n",
    "* Tau huay with peanut rice balls (Mr. Bean) - $2.30\n",
    "\n",
    "* Soy milk with 25% sugar (Mr. Bean) - $1.50\n",
    "\n",
    "Q1: Create variables for all the above items relating to their cost"
   ]
  },
  {
   "cell_type": "code",
   "execution_count": 1,
   "metadata": {},
   "outputs": [],
   "source": [
    "bread = 2.2\n",
    "egg = 1\n",
    "plain_prata = 1\n",
    "egg_prata = 1.5\n",
    "kopi = 0.9\n",
    "tau_huay = 2.3\n",
    "soy_milk = 1.5"
   ]
  },
  {
   "cell_type": "markdown",
   "metadata": {},
   "source": [
    "Q2: How much would 2 plain pratas & 1 kopi o kosong cost? Pls factor in staff discount\n",
    "\n",
    "Save the overall cost as a new variable called \"not_enough\" and print it out with some descriptive text (ie. \"The cost of the breakfast will be $x.xx\")"
   ]
  },
  {
   "cell_type": "code",
   "execution_count": 3,
   "metadata": {},
   "outputs": [
    {
     "name": "stdout",
     "output_type": "stream",
     "text": [
      "The cost of the breakfast will be $ 2.32\n"
     ]
    }
   ],
   "source": [
    "not_enough = (2+kopi)*0.8 #2 plain pratas @ the prata shop is actually sold at a discounted price of $1.80\n",
    "\n",
    "print(\"The cost of the breakfast will be $\", not_enough)"
   ]
  },
  {
   "cell_type": "markdown",
   "metadata": {},
   "source": [
    "Q3: How much would a soy milk & 2 black sesame & cheese crescent cost? Pls factor in staff discount\n",
    "\n",
    "Save the overall cost as a new variable called \"still_not_enough\" and print it out with some descriptive text (ie. \"The cost of the breakfast will be $x.xx\")"
   ]
  },
  {
   "cell_type": "code",
   "execution_count": 3,
   "metadata": {},
   "outputs": [
    {
     "name": "stdout",
     "output_type": "stream",
     "text": [
      "The cost of the breakfast will be $ 4.870000000000001\n"
     ]
    }
   ],
   "source": [
    "still_not_enough = 2*bread*0.8 + 1.5*0.9\n",
    "\n",
    "print(\"The cost of the breakfast will be $\", still_not_enough)"
   ]
  },
  {
   "cell_type": "markdown",
   "metadata": {},
   "source": [
    "Q4: Imagine he is very hungry. How much would 2 black sesame & cheese crescent, 1 tau huay with peanut rice ball, 3 soy milks, and 10 egg pratas cost? Pls factor in staff discount\n",
    "\n",
    "Save the overall cost as a new variable called \"about_right\" and print it out with some descriptive text (ie. \"The cost of the breakfast will be $x.xx\")"
   ]
  },
  {
   "cell_type": "code",
   "execution_count": 2,
   "metadata": {},
   "outputs": [
    {
     "name": "stdout",
     "output_type": "stream",
     "text": [
      "The cost of the breakfast will be $ 21.64\n"
     ]
    }
   ],
   "source": [
    "about_right = (2*bread + 10*egg_prata)*0.8 + (tau_huay + 3*soy_milk)*0.9\n",
    "\n",
    "print(\"The cost of the breakfast will be $\", about_right)"
   ]
  }
 ],
 "metadata": {
  "kernelspec": {
   "display_name": "Python 3",
   "language": "python",
   "name": "python3"
  },
  "language_info": {
   "codemirror_mode": {
    "name": "ipython",
    "version": 3
   },
   "file_extension": ".py",
   "mimetype": "text/x-python",
   "name": "python",
   "nbconvert_exporter": "python",
   "pygments_lexer": "ipython3",
   "version": "3.6.6"
  }
 },
 "nbformat": 4,
 "nbformat_minor": 2
}
