{
 "cells": [
  {
   "cell_type": "markdown",
   "metadata": {},
   "source": [
    "## Lesson 3 Overview\n",
    "\n",
    "1. List comprehension\n",
    "2. Functions\n",
    "3. Importing data\n",
    "4. Packages"
   ]
  },
  {
   "cell_type": "markdown",
   "metadata": {},
   "source": [
    "## Let's load today's lesson!\n",
    "\n",
    "### Open Azure Notebooks library \n",
    "\n",
    "Go to https://notebooks.azure.com -> Sign in if needed -> Select **python-intro**\n",
    "\n",
    "### Update lesson file to latest version\n",
    "\n",
    "Select **New** -> **From URL** -> input https://raw.githubusercontent.com/kelvnt/python-intro/master/lessons/Lesson3.ipynb (URL is available in **Lesson3.ipynb**) -> Click outside input then select **Upload** (overwrite if needed)\n",
    "\n",
    "### Open Jupyter lab\n",
    "\n",
    "From your browser's bookmark or **Run** -> Change browser URL path from **/nb/tree** to **/nb/lab**\n",
    "\n",
    "Select **Lesson3.ipynb**"
   ]
  },
  {
   "cell_type": "markdown",
   "metadata": {},
   "source": [
    "In lesson 2, you've learnt about List and how to create and manipulate them, and about Loops and how to create and update Lists using Loops.\n"
   ]
  },
  {
   "cell_type": "markdown",
   "metadata": {},
   "source": [
    "# List comprehensions\n",
    "\n",
    "`Estimation: 10 minutes`\n",
    "\n",
    "List comprehensions provide a concise way to create lists.\n",
    "\n",
    "It consists of brackets containing an expression followed by a `for` clause, then zero or more `for` or `if` clauses. The expressions can be anything, meaning you can put in all kinds of objects in lists.\n",
    "\n",
    "The result will be a new list resulting from evaluating the expressions in the context of the `for` and `if` clauses which follow it.\n",
    "\n",
    "The list comprehension always returns a result list.\n",
    "\n",
    "### Syntax\n",
    "\n",
    "The list comprehension starts with a '[' and end with ']' and this will ensure the end result is going to be a list.\n",
    "\n",
    "**newList = [expression(x) for x in oldList if filter(x)]**\n",
    "\n",
    "**newList** is the new list result.\n",
    "\n",
    "**expression(x)** is the expression based on the variable used for each element in the old list.\n",
    "\n",
    "**for x in oldList** is a `for` loop.\n",
    "\n",
    "**if filter(x)** is a if-statement to filter unwanted results."
   ]
  },
  {
   "cell_type": "markdown",
   "metadata": {},
   "source": [
    "Example 1: Create a list of squares for even numbers from 0 to 9"
   ]
  },
  {
   "cell_type": "code",
   "execution_count": null,
   "metadata": {},
   "outputs": [],
   "source": [
    "# Normal loop implementation\n",
    "evenSquares = []\n",
    "for x in range(10):\n",
    "    if x % 2 == 0:\n",
    "        evenSquares.append(x**2)\n",
    "        \n",
    "print(evenSquares)"
   ]
  },
  {
   "cell_type": "code",
   "execution_count": null,
   "metadata": {},
   "outputs": [],
   "source": [
    "# List comprehensions implementation\n",
    "[x**2 for x in range(10) if x % 2 == 0]"
   ]
  },
  {
   "cell_type": "markdown",
   "metadata": {},
   "source": [
    "Example 2: Create a tuple that have all different numbers combination between 2 array range from 0 to 4."
   ]
  },
  {
   "cell_type": "code",
   "execution_count": null,
   "metadata": {},
   "outputs": [],
   "source": [
    "# Normal loop implementation\n",
    "combinations = []\n",
    "for x in range(5):\n",
    "    for y in range(5):\n",
    "        if (x != y):\n",
    "            combinations.append((x, y))\n",
    "            \n",
    "print(combinations)"
   ]
  },
  {
   "cell_type": "code",
   "execution_count": null,
   "metadata": {},
   "outputs": [],
   "source": [
    "# List comprehensions implementation\n",
    "combinations = [(x, y) for x in range(5) for y in range(5) if x != y]\n",
    "print(combinations)"
   ]
  },
  {
   "cell_type": "markdown",
   "metadata": {},
   "source": [
    "Example 3: Given 2-dimentional list (like a table), flatten it (to a normal list)"
   ]
  },
  {
   "cell_type": "code",
   "execution_count": null,
   "metadata": {},
   "outputs": [],
   "source": [
    "table = [[1, 2, 3],\n",
    "         [4, 5, 6],\n",
    "         [7, 8, 9]]\n",
    "\n",
    "# Normal loop implementation\n",
    "flatten = []\n",
    "for row in table:\n",
    "    for num in row:\n",
    "        flatten.append(num)\n",
    "\n",
    "print(flatten)"
   ]
  },
  {
   "cell_type": "code",
   "execution_count": null,
   "metadata": {},
   "outputs": [],
   "source": [
    "# List comprehensions implementation\n",
    "[num for row in table for num in row]"
   ]
  },
  {
   "cell_type": "markdown",
   "metadata": {},
   "source": [
    "Exercise: Add all possible tuples that have the first number ranging from 2 to 5 (x) and the second number ranging from 1 to 25 and divisible by the first number to a list. `(5 minutes)`"
   ]
  },
  {
   "cell_type": "code",
   "execution_count": null,
   "metadata": {},
   "outputs": [],
   "source": [
    "# Normal loop implementation\n",
    "\n",
    "# List comprehensions implementation\n",
    "\n",
    "# Expected result:\n",
    "# [(2, 2), (2, 4), (2, 6), (2, 8), (2, 10), (2, 12), (2, 14), (2, 16), \n",
    "#  (2, 18), (2, 20), (2, 22), (2, 24), (3, 3), (3, 6), (3, 9), (3, 12), \n",
    "#  (3, 15), (3, 18), (3, 21), (3, 24), (4, 4), (4, 8), (4, 12), (4, 16), \n",
    "#  (4, 20), (4, 24), (5, 5), (5, 10), (5, 15), (5, 20), (5, 25)]"
   ]
  },
  {
   "cell_type": "code",
   "execution_count": null,
   "metadata": {},
   "outputs": [],
   "source": [
    "for i in range(10):\n",
    "    print(i)\n",
    "    \n",
    "print(i)"
   ]
  },
  {
   "cell_type": "markdown",
   "metadata": {},
   "source": [
    "# Sorting\n",
    "\n",
    "`Estimation: 5 minutes`\n",
    "\n",
    "### Ascending - from small to big, from low to high, from A to Z, from a to z\n",
    "\n",
    "By default, all sorting are in ascending order.\n",
    "\n",
    "**sorted(list)** will return a new sorted list, leaving the original list unaffected.\n",
    "\n",
    "**list.sort()** will sort the list **in-place**. If the list is immutable, it will return None.\n",
    "\n",
    "### Descending - in reverse of Ascending\n",
    "\n",
    "Both sort() and sorted() accept an additional parameter for reverse in boolean type.\n",
    "\n",
    "**sorted(list, reverse=True)**\n",
    "\n",
    "**list.sort(reverse=True)**"
   ]
  },
  {
   "cell_type": "markdown",
   "metadata": {},
   "source": [
    "Example 1: Given a list of numbers, create a new sorted list in ascending order and in-place descending order."
   ]
  },
  {
   "cell_type": "code",
   "execution_count": null,
   "metadata": {},
   "outputs": [],
   "source": [
    "listOfNum = [56, 34, 65, 12, 88, 54, 99, 78]\n",
    "\n",
    "# new ascending order list named ascending\n",
    "ascending = sorted(listOfNum)\n",
    "print(ascending)\n",
    "print(listOfNum)\n",
    "\n",
    "# in-place descending order\n",
    "listOfNum.sort(reverse=True)\n",
    "\n",
    "print(\"Ascending: \", ascending)\n",
    "print(\"Descending: \", listOfNum)"
   ]
  },
  {
   "cell_type": "markdown",
   "metadata": {},
   "source": [
    "Example 2: Given a list of alphabets, create a new sorted list in descending order and in-place ascending order."
   ]
  },
  {
   "cell_type": "code",
   "execution_count": null,
   "metadata": {},
   "outputs": [],
   "source": [
    "listOfAlp = ['g', 'w', 's', 'a', 'k', 'e', 'q', 'd']\n",
    "\n",
    "# new descending order list named descending\n",
    "descending = sorted(listOfAlp, reverse=True)\n",
    "\n",
    "# in-place ascending order\n",
    "listOfAlp.sort()\n",
    "\n",
    "print(\"Ascending: \", listOfAlp)\n",
    "print(\"Descending: \", descending)"
   ]
  },
  {
   "cell_type": "markdown",
   "metadata": {},
   "source": [
    "Exercise: Flatten list given `(5 minutes)`"
   ]
  },
  {
   "cell_type": "code",
   "execution_count": null,
   "metadata": {},
   "outputs": [],
   "source": [
    "# list given\n",
    "listOfNum = [76, 23, 54, 68]\n",
    "listOfFloat = [54.1, 53.9, 54.0]\n",
    "listOfAlp = ['c', 'g', 'h']\n",
    "listOfCapAlp = ['C', 'A', 'R', 'E']\n",
    "combined = [listOfNum, listOfFloat, listOfAlp, listOfCapAlp]\n",
    "\n",
    "print(combined)\n",
    "# flatten array\n",
    "\n",
    "flatten = [item for nested_list in combined for item in nested_list]\n",
    "print(flatten)"
   ]
  },
  {
   "cell_type": "markdown",
   "metadata": {},
   "source": [
    "# Slicing\n",
    "\n",
    "`Estimation: 5 minutes`\n",
    "\n",
    "Slicing is used to extract a part of a List, a Tuple or a String.\n",
    "\n",
    "### Syntax\n",
    "\n",
    "**list[start:end:step]**\n",
    "\n",
    "**start** by default is 0\n",
    "\n",
    "**end** by default is the last list item\n",
    "\n",
    "**step** by default is 1 "
   ]
  },
  {
   "cell_type": "markdown",
   "metadata": {},
   "source": [
    "Example 1: Given a list, slice list with default step."
   ]
  },
  {
   "cell_type": "code",
   "execution_count": null,
   "metadata": {},
   "outputs": [],
   "source": [
    "items = [0, 1, 2, 3, 4, 5, 6, 7, 8, 9, 10]\n",
    "\n",
    "# all items in list\n",
    "print(\"Initial list: \", items)\n",
    "\n",
    "# first and last item in the array/list\n",
    "print(\"First item in list: \", items[0])\n",
    "print(\"Last item in list: \", items[-1])\n",
    "\n",
    "# all item except the last two items\n",
    "print(\"All item except last two items in list: \", items[:-2])\n",
    "\n",
    "# items from 3rd to 5th array/list\n",
    "print(\"3rd to 5th items in list: \", items[2:5])"
   ]
  },
  {
   "cell_type": "markdown",
   "metadata": {},
   "source": [
    "Example 2: Slice list with different step."
   ]
  },
  {
   "cell_type": "code",
   "execution_count": null,
   "metadata": {},
   "outputs": [],
   "source": [
    "# all items in the array/list reversed\n",
    "print(\"All reversed: \", items[::-1])\n",
    "\n",
    "# first 3 items reversed\n",
    "print(\"First 3 items reversed: \", items[2::-1])\n",
    "\n",
    "# last 3 items reversed\n",
    "print(\"Last 3 items reversed: \", items[:-4:-1])\n",
    "\n",
    "# all items in even position\n",
    "print(\"All items in even position: \", items[::2])\n"
   ]
  },
  {
   "cell_type": "markdown",
   "metadata": {},
   "source": [
    "Exercise: Reverse the list and print \"changi\" `(5 minutes)`"
   ]
  },
  {
   "cell_type": "code",
   "execution_count": null,
   "metadata": {},
   "outputs": [],
   "source": [
    "my_list = ['i', 'g', 'n', 'a', 'h', 'c']\n",
    "\n",
    "# hint:\n",
    "# convert list to string by using: ''.join(list)\n",
    "print(''.join(my_list[::-1]))"
   ]
  },
  {
   "cell_type": "markdown",
   "metadata": {},
   "source": [
    "# Merging\n",
    "\n",
    "`Estimation: 1 minutes`\n",
    "\n",
    "Merging newList into existingList.\n",
    "\n",
    "### Syntax\n",
    "\n",
    "**existingList.extend(newList)**"
   ]
  },
  {
   "cell_type": "markdown",
   "metadata": {},
   "source": [
    "Example 1: Given 2 list, merge them."
   ]
  },
  {
   "cell_type": "code",
   "execution_count": null,
   "metadata": {},
   "outputs": [],
   "source": [
    "existingFruits = [\"Apple\", \"Banana\", \"Mango\"]\n",
    "newFruits = [\"Dragon Fruits\", \"Kiwi\"]\n",
    "\n",
    "existingFruits.extend(newFruits)\n",
    "print(\"Merge new fruits into existing list: \", existingFruits)"
   ]
  },
  {
   "cell_type": "markdown",
   "metadata": {},
   "source": [
    "# Function\n",
    "\n",
    "### What is a function?\n",
    "In computer programming, a function (subroutine) is a sequence of program instructions that perform a specific task, packaged as a unit. This unit can then be used in programs wherever that particular task should be performed. (Wikipedia)\n",
    "\n",
    "Function is basically a group of commands to the computer, and it can come with parameters to modify the behaviour of these commands.\n",
    "\n",
    "General syntax to define a function:\n",
    "```Python\n",
    "def functionname( parameters ):\n",
    "    operations inside the function # take note of the indentation, operations and return indented belong to this function\n",
    "                                   # we can put any kind of command inside the function, e.g. variable assignment, conditional, loop, etc.\n",
    "    return some_value # if some_value is missing, function returns None. If return statement is missing, function also returns None\n",
    "```\n",
    "\n",
    "Syntax to execute a function:\n",
    "```Python\n",
    "functionname( parameters ) # we need substitute parameters with their real values\n",
    "```\n",
    "\n",
    "Here are a few examples:"
   ]
  },
  {
   "cell_type": "code",
   "execution_count": null,
   "metadata": {},
   "outputs": [],
   "source": [
    "# Function to return sum of 3 numbers\n",
    "def sum_of_three(num1, num2, num3):  # we define the function here\n",
    "    sum = num1 + num2 + num3\n",
    "    print(sum)\n",
    "\n",
    "\n",
    "sum_of_2_4_5 = sum_of_three(2, 4, 5)  # we execute the function here, replace the parameters with the actual values,\n",
    "                                      # then we assign sum_of_2_4_5 to the value returned by sum_of_three function\n",
    "print(sum_of_2_4_5)\n",
    "\n",
    "print(sum_of_three(10, 20, 30))  # we can also print directly the value returned by sum_of_three function"
   ]
  },
  {
   "cell_type": "code",
   "execution_count": null,
   "metadata": {},
   "outputs": [],
   "source": [
    "# Parameters are optional\n",
    "def hello():\n",
    "    print('hello')"
   ]
  },
  {
   "cell_type": "code",
   "execution_count": null,
   "metadata": {},
   "outputs": [],
   "source": [
    "# We need to execute the function by calling it\n",
    "def hello():\n",
    "    print('hello')\n",
    "\n",
    "\n",
    "hello()"
   ]
  },
  {
   "cell_type": "markdown",
   "metadata": {},
   "source": [
    "Let's do some practices with function:"
   ]
  },
  {
   "cell_type": "code",
   "execution_count": null,
   "metadata": {},
   "outputs": [],
   "source": [
    "# define a cube function that take in one number in parameter, return the cubic value of the number\n",
    "\n",
    "# Start here\n",
    "def cube(x):\n",
    "    return x**3\n",
    "\n",
    "def cube_many(list_):\n",
    "    output = []\n",
    "    for i in list_:\n",
    "        output.append(i**3)\n",
    "    return output\n",
    "    \n",
    "\n",
    "# Don't touch the code below\n",
    "print(cube(3))  # make this work without error and print 27\n",
    "cube_many([1,5,123,34,23])"
   ]
  },
  {
   "cell_type": "markdown",
   "metadata": {},
   "source": [
    "## What is a CSV file?\n",
    "\n",
    "A CSV is a comma separated values file which allows data to be saved in a table structured format. A CSV file is similar to an Excel spreadsheet, though it doesn't have the style formatting and has a .csv extension instead. Traditionally they take the form of a text file containing information separated by commas, hence the name.\n",
    "\n",
    "### Content in CSV\n",
    "\n",
    "Starting from this lesson, we will use the data from the passengers in Titanic.\n",
    "\n",
    "In \"/data/titanic.csv\", you'll find a dataset containing all the passengers in the fateful sinking of Titanic, along with some demographics and details, and whether or not they survived.\n",
    "\n",
    "*** The following sample data is from the Titanic Dataset ***\n",
    "\n",
    "     PassengerId,Survived,Pclass,Name,Sex,Age,SibSp,Parch,Ticket,Fare,Cabin,Embarked\n",
    "\n",
    "     1,0,3,\"Braund, Mr. Owen Harris\",male,22,1,0,A/5 21171,7.25,,S\n",
    "\n",
    "     2,1,1,\"Cumings, Mrs. John Bradley (Florence Briggs Thayer)\",female,38,1,0,PC 17599,71.2833,C85,C\n",
    "\n",
    "\n",
    "However, CSV file is a table, as we are familiar with Excel, to make it more clear, we can have a comparison with Excel we generally use in our daily work. The first row is the column names, and the specific information of each person starts from the second row.\n",
    "\n",
    "If you open the CSV file using a text Editor such as Notepad, you'll see the content as above.\n",
    "\n",
    "If you open the CSV file using Excel, the content will have the same format as a .xls/.xlsx file."
   ]
  },
  {
   "cell_type": "markdown",
   "metadata": {},
   "source": [
    "## How to list the content of a CSV file\n",
    "\n",
    "To read and analyse the data, we use the Python csv library. CSV literally stands for comma separated variable, where the comma is what is known as a \"delimiter.\"\n",
    "\n",
    "   *** Tips: Whatever the libraries you need, you should import all the necessary libraries at the beginnng of the code.***\n",
    "    \n",
    "** Let's get started! **\n",
    "\n",
    "### How to read a CSV file in Python -- `csv.reader()` function\n",
    "\n",
    "    1. The first thing we need to do is to import the csv library, then we can use its functions in our program.\n",
    "    2. Open the file by using its path\n",
    "    3. To read a CSV file, we use csv.reader() function from the csv library\n",
    "    4. Use \"for\" statement we learnt in Lesson 3 to read through the data row by row from a CSV file\n",
    "    5. Print each row\n"
   ]
  },
  {
   "cell_type": "code",
   "execution_count": null,
   "metadata": {},
   "outputs": [],
   "source": [
    "# Print CSV file\n",
    "import csv\n",
    "with open('../data/titanic.csv') as csvfile:\n",
    "    readCSV = csv.reader(csvfile)\n",
    "    for row in readCSV:\n",
    "        print(row)"
   ]
  },
  {
   "cell_type": "markdown",
   "metadata": {},
   "source": [
    "This is how we read a CSV file row by row in Python.\n",
    "\n",
    "### How to print some specific data from a CSV file\n",
    "\n",
    "When using the csv library in Python, a row is a variable of type List with the first index (0) being the first column, the second index (1) being the second column, and so on.\n",
    "\n",
    "The following code block will print the team_no, team_name, and team_captain values of each row."
   ]
  },
  {
   "cell_type": "code",
   "execution_count": null,
   "metadata": {},
   "outputs": [],
   "source": [
    "# Print CSV file\n",
    "import csv\n",
    "with open('../data/titanic.csv') as csvfile:\n",
    "    readCSV = csv.reader(csvfile)\n",
    "    for row in readCSV:\n",
    "        print(row[0], row[1], row[2])"
   ]
  },
  {
   "cell_type": "markdown",
   "metadata": {},
   "source": [
    "#### `with` statement\n",
    "\n",
    "From the code above, we use a keyword `with` when opening the CSV file. Then what's `with`? And what's the `with` statement used for?\n",
    "\n",
    "By using `with` statement, you can get better syntax and errors handling. We call it exceptions handling.\n",
    "\n",
    "`with` statement simplifies errors handling by wrapping common preparation and cleanup tasks. In addition, it will automatically close the file even if there are errors when opening it. The `with` statement also provides a way for ensuring that a clean-up is always used.\n",
    "\n",
    "Here is how we print the second row of the CSV data:"
   ]
  },
  {
   "cell_type": "code",
   "execution_count": null,
   "metadata": {},
   "outputs": [],
   "source": [
    "# Print the data of the first row\n",
    "import csv\n",
    "with open('../data/titanic.csv') as csvfile:\n",
    "    readCSV = csv.reader(csvfile)\n",
    "    for row_index, row in enumerate(readCSV):\n",
    "        if row_index == 1:\n",
    "            print(row)\n",
    "            break"
   ]
  },
  {
   "cell_type": "markdown",
   "metadata": {},
   "source": [
    "As we already know, the index of a **list** starts from 0, it applies to every programming language as well. \n",
    "\n",
    "CSV is a table (or a list of list of cell), therefore, the index of column and row start from 0 as well.\n",
    "\n",
    "In the code sample above, we use `if row_index == 1` because we want to print the first row only, and index 0 is the column names.\n",
    "\n",
    "#### But being able to do this isn't very useful yet, how can we store this data with the data types that we have learnt?\n",
    "\n",
    "Can we save it into a nested list? After which, how can we manipulate it?"
   ]
  },
  {
   "cell_type": "code",
   "execution_count": null,
   "metadata": {},
   "outputs": [],
   "source": [
    "#how can we save the data?\n",
    "df = []\n",
    "\n",
    "with open('../data/titanic.csv') as csvfile:\n",
    "    readCSV = csv.reader(csvfile)\n",
    "    for row in readCSV:\n",
    "        df.append(row)\n",
    "print(df)"
   ]
  },
  {
   "cell_type": "code",
   "execution_count": null,
   "metadata": {},
   "outputs": [],
   "source": [
    "# To access a row\n",
    "print(df[3])\n",
    "\n",
    "# To access a particular cell, nested list\n",
    "print(df[3][3])\n",
    "\n",
    "# To access a column\n",
    "for i in range(1,len(df)):\n",
    "    i = i-1\n",
    "    print(df[i][9])\n",
    "    \n",
    "# To assign a new column that takes the passenger's fare and multiplies it by 2\n",
    "df[0].append(\"fare_x2\")\n",
    "for i in range(1,len(df)):\n",
    "    i = i-1\n",
    "    if i == 0:\n",
    "        continue\n",
    "    df[i].append(float(df[i][9])*2)\n",
    "\n",
    "print(df[0:2])"
   ]
  },
  {
   "cell_type": "markdown",
   "metadata": {},
   "source": [
    "#### As you can see, it gets increasingly cumbersome to perform simple manipulation and calculation in such a data structure. Nested lists does not seem like a great way to store data. What alternatives do we have?"
   ]
  },
  {
   "cell_type": "markdown",
   "metadata": {},
   "source": [
    "# Packages\n",
    "\n",
    "So far everything that we've been working with has been based on Python's rich standard library. However, with it being a popular language, there are many third party packages written by the community to expand on it's capabilities. Some popular packages include:\n",
    "* Pandas - wrangling and munging of tabular data\n",
    "* Numpy - numerical operations\n",
    "* Sci-kit learn - machine learning algorithms\n",
    "* Matplotlib - plotting\n",
    "* Tensorflow - machine learning and AI\n",
    "\n",
    "It can be tedious to manually install extra packages that one needs / depends on (a particular package can have dependencies on another 10 packages that has to be installed prior), and hence there's a need for some kind of standardized packaging system that allows for the ease of installation and distribution of packages - PyPI (Python Packaging Index) / Anaconda. Feel free to read more about them in the links below.\n",
    "\n",
    "[PyPI](https://pypi.org/help/)\n",
    "[Anaconda](https://www.anaconda.com/download/)\n",
    "\n",
    "For installation on your personal PC, I'd recommend for you to use Anaconda's distribution for ease of maintaining versions. At work however, due to admin rights restrictions, we may have to use install python independently followed by pip installing packages in PyPI.\n",
    "\n",
    "More details on packaging [here](http://the-hitchhikers-guide-to-packaging.readthedocs.io/en/latest/introduction.html)\n",
    "\n",
    "### As you've seen above / previous lessons, modules and packages can be brought in or imported with the following statement:\n",
    "\n",
    "```python\n",
    "import module_name\n",
    "```\n",
    "\n",
    "In some cases, you might see the following syntax used to import certain functions in a module/package:\n",
    "\n",
    "```python\n",
    "from module_name import function_name\n",
    "```\n",
    "\n",
    "What is the difference between these 2?\n",
    "Run the lines below and think.."
   ]
  },
  {
   "cell_type": "code",
   "execution_count": null,
   "metadata": {},
   "outputs": [],
   "source": [
    "import math\n",
    "math.sqrt(12)"
   ]
  },
  {
   "cell_type": "code",
   "execution_count": null,
   "metadata": {},
   "outputs": [],
   "source": [
    "sqrt(12)"
   ]
  },
  {
   "cell_type": "code",
   "execution_count": null,
   "metadata": {},
   "outputs": [],
   "source": [
    "math.log10(0.5)"
   ]
  },
  {
   "cell_type": "markdown",
   "metadata": {},
   "source": [
    "We can also provide an alias to refer to the module_name by"
   ]
  },
  {
   "cell_type": "code",
   "execution_count": null,
   "metadata": {},
   "outputs": [],
   "source": [
    "import math as xyz\n",
    "xyz.sqrt(12)\n",
    "xyz.log10(0.5)"
   ]
  },
  {
   "cell_type": "code",
   "execution_count": null,
   "metadata": {},
   "outputs": [],
   "source": [
    "from math import sqrt\n",
    "sqrt(12)"
   ]
  },
  {
   "cell_type": "code",
   "execution_count": null,
   "metadata": {},
   "outputs": [],
   "source": [
    "log10(0.5)"
   ]
  },
  {
   "cell_type": "markdown",
   "metadata": {},
   "source": [
    "When we do an **import module_name**, we are bringing in all functions from the module in, and they are then called specifically by:\n",
    "\n",
    "`module_name.function_name()`\n",
    "\n",
    "However, when we do a **from module_name import function_name**, only the specified function_name is imported into your environment and can be called directly by the function name:\n",
    "\n",
    "`function_name()`\n",
    "\n",
    "### When do we use one over another? Do we preferentially prefer 1 method to another?\n",
    "\n",
    "_This is usually up to the individual's preference.._\n",
    "\n",
    "But I would highly recommend you to use **import module_name** and call functions via `module_name.function_name()` as it gives you better awareness of where that function is coming from. _In an unlikely case where 2 different modules have the same function name, using the 2nd method may cause some confusion over which one you're using.._ There are of course [more factors to consider](https://stackoverflow.com/questions/710551/use-import-module-or-from-module-import) but I'll leave you with that for now.\n",
    "\n",
    "#### With that out of the way, let's look at how to import and work with data using Pandas!\n",
    "\n",
    "Pandas provide a function called `read_csv` that takes the path of the csv file as an argument.\n",
    "If you want to import data from an excel file, simply use the `read_excel` function in pandas instead.\n",
    "\n",
    "More importantly, pandas introduces a new data type called a data frame that is great for storing tabular data."
   ]
  },
  {
   "cell_type": "code",
   "execution_count": null,
   "metadata": {},
   "outputs": [],
   "source": [
    "import pandas as pd\n",
    "\n",
    "df = pd.read_csv(\"../data/titanic.csv\")"
   ]
  },
  {
   "cell_type": "code",
   "execution_count": null,
   "metadata": {},
   "outputs": [],
   "source": [
    "# Look at the first 5 rows of data\n",
    "print(df.head())\n",
    "\n",
    "# Access a particular column\n",
    "print(df['Age'].head())\n",
    "\n",
    "# Assign a new column \n",
    "df['fare_x2'] = df['Fare']*2\n",
    "print(df['fare_x2'].head())"
   ]
  },
  {
   "cell_type": "markdown",
   "metadata": {},
   "source": [
    "#### This is so much easier right?\n",
    "\n",
    "I'll stop here for now, and show you how we can access and work with a pandas DataFrame in the next lesson.\n",
    "\n",
    "Quick Recap:\n",
    "You've figured out how to -\n",
    "* List comprehensions\n",
    "* Write python functions\n",
    "* How to import data - csv files\n",
    "* Packaging environment in Python\n",
    "\n",
    "See you in our next lesson!"
   ]
  },
  {
   "cell_type": "markdown",
   "metadata": {},
   "source": [
    "## Homework\n",
    "\n",
    "WHAT'S A LESSON WITHOUT HW??????????????????\n",
    "\n",
    "#### List Comprehensions\n",
    "\n",
    "Q1: Find all of the numbers from 1-1000 that are divisible by 7\n",
    "\n",
    "Q2: Count the number of spaces in the string below\n",
    "\n",
    "Q3: Find all of the words in the string below that are less than 4 letters\n",
    "\n",
    "Q4: Remove all of the vowels in the string below"
   ]
  },
  {
   "cell_type": "code",
   "execution_count": null,
   "metadata": {},
   "outputs": [],
   "source": [
    "#Q1\n",
    "div_7 = [x for x in range(1, 1001) if x % 7 ==0]\n",
    "print(div_7)\n",
    "\n",
    "#Q2\n",
    "sample_text = \"Lorem ipsum dolor sit amet, consectetur adipiscing elit, sed do eiusmod tempor incididunt ut labore\"\n",
    "\n",
    "#1st method, without list comprehensions\n",
    "print(sample_text.count(' '))\n",
    "\n",
    "#2nd method, with list comprehensions\n",
    "results = [character for character in sample_text if character == ' ']\n",
    "print(len(results))\n",
    "\n",
    "#Q3\n",
    "results = [word for word in sample_text.split() if len(word) < 4]\n",
    "print(results)\n",
    "\n",
    "#Q4\n",
    "vowels = ['a','e','i','o','u']\n",
    "results = [letter for letter in sample_text if letter.lower() not in vowels]\n",
    "print(results)"
   ]
  },
  {
   "cell_type": "markdown",
   "metadata": {},
   "source": [
    "#### Functions\n",
    "\n",
    "Q1: Write a function that takes in a path to a csv file, reads it in, prints out the first 5 rows of the data (`hint: dataframe.head()`), and asks the user whether or not it has been imported correctly.\n",
    "\n",
    "Q2: Write a Python function to multiply all the numbers in a list\n",
    "\n",
    "Q3: Write a Python program to reverse a string (eg. \"abcdefg\" to \"gfedcba\")\n",
    "\n",
    "Q4*: Write a Python function to calculate the factorial of a number (a non-negative integer). The function accepts the number as an argument. "
   ]
  },
  {
   "cell_type": "code",
   "execution_count": null,
   "metadata": {},
   "outputs": [],
   "source": [
    "#Q1\n",
    "import pandas as pd\n",
    "\n",
    "def import_check(path):\n",
    "    df = pd.read_csv(path)\n",
    "    print(df.head())\n",
    "    check = input(\"Is the file imported correctly? (Y/N)\")\n",
    "    \n",
    "    if check == \"Y\":\n",
    "        print(\"File imported correctly.\")\n",
    "    else: print(\"Please check if the file path is correct or file was extracted correctly.\")\n",
    "    \n",
    "    return df\n",
    "\n",
    "df_titanic = import_check(\"../data/titanic.csv\")\n",
    "\n",
    "#Q2\n",
    "def multiply_list(list_num):\n",
    "    result = 1\n",
    "    for num in list_num:\n",
    "        result *= num # same as result = result * num\n",
    "    return result\n",
    "\n",
    "product = multiply_list([23,12,2,5,6])\n",
    "print(product)\n",
    "\n",
    "#Q3\n",
    "def rev_string(string):\n",
    "    return string[::-1]\n",
    "\n",
    "result = rev_string(\".emosewa si HGC\")\n",
    "print(result)\n",
    "\n",
    "#Q4\n",
    "def factorial(num):\n",
    "    result = 1\n",
    "    while num >= 1:\n",
    "        result = result * num\n",
    "        num = num - 1\n",
    "    return result\n",
    "\n",
    "result = factorial(4)\n",
    "print(result)"
   ]
  }
 ],
 "metadata": {
  "kernelspec": {
   "display_name": "Python 3",
   "language": "python",
   "name": "python3"
  },
  "language_info": {
   "codemirror_mode": {
    "name": "ipython",
    "version": 3
   },
   "file_extension": ".py",
   "mimetype": "text/x-python",
   "name": "python",
   "nbconvert_exporter": "python",
   "pygments_lexer": "ipython3",
   "version": "3.6.6"
  }
 },
 "nbformat": 4,
 "nbformat_minor": 2
}
